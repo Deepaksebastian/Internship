{
 "cells": [
  {
   "cell_type": "markdown",
   "id": "96159685",
   "metadata": {},
   "source": [
    "# 11. Write a python program to find the factorial of a number."
   ]
  },
  {
   "cell_type": "code",
   "execution_count": 21,
   "id": "bb86bb31",
   "metadata": {},
   "outputs": [
    {
     "name": "stdout",
     "output_type": "stream",
     "text": [
      "Enter a number : 5\n",
      "factorial of 5 = 120\n"
     ]
    }
   ],
   "source": [
    "x=int(input('Enter a number : '))\n",
    "y=1\n",
    "for i in range(1,x+1):\n",
    "    y=y*i\n",
    "print('factorial of',x,'=', y)"
   ]
  },
  {
   "cell_type": "code",
   "execution_count": null,
   "id": "0acfff4a",
   "metadata": {},
   "outputs": [],
   "source": []
  },
  {
   "cell_type": "markdown",
   "id": "6952f6d8",
   "metadata": {},
   "source": [
    "# 12. Write a python program to find whether a number is prime or composite."
   ]
  },
  {
   "cell_type": "code",
   "execution_count": 45,
   "id": "efe7e516",
   "metadata": {},
   "outputs": [
    {
     "name": "stdout",
     "output_type": "stream",
     "text": [
      "Enter a number : 8\n",
      "8 is a composite number\n"
     ]
    }
   ],
   "source": [
    "x=int(input('Enter a number : '))\n",
    "for i in range(2,x//2):\n",
    "    if (x%i)==0:\n",
    "        print(x,'is a composite number')\n",
    "        break\n",
    "else:\n",
    "    print(x,'is a prime number')"
   ]
  },
  {
   "cell_type": "code",
   "execution_count": null,
   "id": "8f87b69a",
   "metadata": {},
   "outputs": [],
   "source": []
  },
  {
   "cell_type": "markdown",
   "id": "07410ab8",
   "metadata": {},
   "source": [
    "# 13. Write a python program to check whether a given string is palindrome or not."
   ]
  },
  {
   "cell_type": "code",
   "execution_count": 48,
   "id": "fe36e3f8",
   "metadata": {},
   "outputs": [
    {
     "name": "stdout",
     "output_type": "stream",
     "text": [
      "Enter a string :malayalam\n",
      "The string is a palindrome\n"
     ]
    }
   ],
   "source": [
    "x=input('Enter a string :')\n",
    "if (x==x[::-1]):\n",
    "    print('The string is a palindrome')\n",
    "else:\n",
    "    print('String is not palindrome')"
   ]
  },
  {
   "cell_type": "code",
   "execution_count": null,
   "id": "4821fe65",
   "metadata": {},
   "outputs": [],
   "source": []
  },
  {
   "cell_type": "markdown",
   "id": "e64285fd",
   "metadata": {},
   "source": [
    "# 14. Write a Python program to get the third side of right-angled triangle from two given sides."
   ]
  },
  {
   "cell_type": "code",
   "execution_count": 3,
   "id": "7e70842c",
   "metadata": {},
   "outputs": [
    {
     "name": "stdout",
     "output_type": "stream",
     "text": [
      "Enter the length of first side :4\n",
      "Enter the length of second side :3\n",
      "Enter the name of side you want to find out. (base or altitude or hypotenus):hypotenus\n",
      "hypotenus = 5.0\n"
     ]
    }
   ],
   "source": [
    "from math import sqrt\n",
    "x=int(input('Enter the length of first side :'))\n",
    "y=int(input('Enter the length of second side :'))\n",
    "z=input('Enter the name of side you want to find out. (base or altitude or hypotenus):')\n",
    "a=(max(x,y))**2\n",
    "b=(min(x,y))**2\n",
    "if'hypotenus'in z:\n",
    "    c=sqrt(a+b)\n",
    "    print(z,'=',c)\n",
    "elif 'base' or 'altitude' in z:    \n",
    "    c=sqrt(a-b)\n",
    "    print(z,'=',c)"
   ]
  },
  {
   "cell_type": "code",
   "execution_count": null,
   "id": "52d20f8a",
   "metadata": {},
   "outputs": [],
   "source": []
  },
  {
   "cell_type": "markdown",
   "id": "7a4c56cf",
   "metadata": {},
   "source": [
    "# 15. Write a python program to print the frequency of each of the characters present in a given string."
   ]
  },
  {
   "cell_type": "code",
   "execution_count": 5,
   "id": "37da042d",
   "metadata": {},
   "outputs": [
    {
     "name": "stdout",
     "output_type": "stream",
     "text": [
      "Enter a string :are you happy\n",
      "{'a': 2, 'r': 1, 'e': 1, ' ': 2, 'y': 2, 'o': 1, 'u': 1, 'h': 1, 'p': 2}\n"
     ]
    }
   ],
   "source": [
    "x=input('Enter a string :')\n",
    "freq={}\n",
    "for i in x:\n",
    "    if i in freq:\n",
    "        freq[i]+=1\n",
    "    else:\n",
    "        freq[i]=1\n",
    "print(str(freq))"
   ]
  },
  {
   "cell_type": "code",
   "execution_count": null,
   "id": "6709a762",
   "metadata": {},
   "outputs": [],
   "source": []
  }
 ],
 "metadata": {
  "kernelspec": {
   "display_name": "Python 3",
   "language": "python",
   "name": "python3"
  },
  "language_info": {
   "codemirror_mode": {
    "name": "ipython",
    "version": 3
   },
   "file_extension": ".py",
   "mimetype": "text/x-python",
   "name": "python",
   "nbconvert_exporter": "python",
   "pygments_lexer": "ipython3",
   "version": "3.8.8"
  }
 },
 "nbformat": 4,
 "nbformat_minor": 5
}
