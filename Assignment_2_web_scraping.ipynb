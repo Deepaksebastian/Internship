{
 "cells": [
  {
   "cell_type": "markdown",
   "id": "578b94c8",
   "metadata": {},
   "source": [
    "# 1"
   ]
  },
  {
   "cell_type": "markdown",
   "id": "5ff9962c",
   "metadata": {},
   "source": [
    "Q1: Write a python program to scrape data for “Data Analyst” Job position in “Bangalore” location. You have to scrape the job-title, job-location, company_name, experience_required. You have to scrape first 10 jobs data. This task will be done in following steps:\n",
    "\n",
    "First get the webpage https://www.naukri.com/\n",
    "Enter “Data Analyst” in “Skill, Designations, Companies” field and enter “Bangalore” in “enter the location” field.\n",
    "Then click the search button.\n",
    "Then scrape the data for the first 10 jobs results you get.\n",
    "Finally create a dataframe of the scraped data. Note: All of the above steps have to be done in code. No step is to be done manually"
   ]
  },
  {
   "cell_type": "code",
   "execution_count": 70,
   "id": "a782cc01",
   "metadata": {},
   "outputs": [],
   "source": [
    "#lets import all required libraries\n",
    "import selenium\n",
    "import pandas as pd\n",
    "from selenium import webdriver\n",
    "import warnings\n",
    "warnings.filterwarnings('ignore')\n",
    "import time"
   ]
  },
  {
   "cell_type": "code",
   "execution_count": 71,
   "id": "63cfc324",
   "metadata": {},
   "outputs": [],
   "source": [
    "#lets first connect to the web driver \n",
    "driver=webdriver.Chrome(r\"C:\\Users\\USER\\Downloads\\chromedriver_win32\\chromedriver.exe\")"
   ]
  },
  {
   "cell_type": "code",
   "execution_count": 72,
   "id": "fa5bd47d",
   "metadata": {},
   "outputs": [],
   "source": [
    "driver=webdriver.Chrome(\"chromedriver.exe\")\n",
    "time.sleep(2)"
   ]
  },
  {
   "cell_type": "code",
   "execution_count": 73,
   "id": "de0b1342",
   "metadata": {},
   "outputs": [],
   "source": [
    "#opening link adress\n",
    "driver.get('https://www.naukri.com/')"
   ]
  },
  {
   "cell_type": "code",
   "execution_count": 74,
   "id": "e8feacdb",
   "metadata": {},
   "outputs": [],
   "source": [
    "#finding elements for job search bar\n",
    "search_field_designation=driver.find_element_by_class_name(\"suggestor-input \")\n",
    "search_field_designation.send_keys(\"Data Analyst\")\n",
    "search_field_location=driver.find_element_by_xpath('/html/body/div/div[2]/div[3]/div/div/div[3]/div/div/div/input')\n",
    "search_field_location.send_keys(\"Bangalore\")\n",
    "search_button=driver.find_element_by_xpath(\"/html/body/div/div[2]/div[3]/div/div[1]/div[6]\")\n",
    "search_button.click()"
   ]
  },
  {
   "cell_type": "code",
   "execution_count": 75,
   "id": "186230ef",
   "metadata": {},
   "outputs": [],
   "source": [
    "#lets create empty list for storing our data\n",
    "job_titles=[]\n",
    "company_names=[]\n",
    "location_list=[]\n",
    "experience_list=[]"
   ]
  },
  {
   "cell_type": "code",
   "execution_count": 76,
   "id": "6c4094fe",
   "metadata": {},
   "outputs": [
    {
     "data": {
      "text/plain": [
       "[]"
      ]
     },
     "execution_count": 76,
     "metadata": {},
     "output_type": "execute_result"
    }
   ],
   "source": [
    "#lets extract all the tags having the job titles\n",
    "titles_tags=driver.find_elements_by_xpath(\"//a[@class='title fw500 ellipsis']\")\n",
    "titles_tags[0:10]"
   ]
  },
  {
   "cell_type": "code",
   "execution_count": 77,
   "id": "2a040f72",
   "metadata": {},
   "outputs": [
    {
     "data": {
      "text/plain": [
       "[]"
      ]
     },
     "execution_count": 77,
     "metadata": {},
     "output_type": "execute_result"
    }
   ],
   "source": [
    "#now we shall run a loop to extract the text inside the tags.\n",
    "for i in titles_tags:\n",
    "    titles=i.text\n",
    "    job_titles.append(titles)\n",
    "job_titles=job_titles[0:10]\n",
    "job_titles"
   ]
  },
  {
   "cell_type": "code",
   "execution_count": 78,
   "id": "70eff6ec",
   "metadata": {},
   "outputs": [
    {
     "data": {
      "text/plain": [
       "[]"
      ]
     },
     "execution_count": 78,
     "metadata": {},
     "output_type": "execute_result"
    }
   ],
   "source": [
    "#next, we shall extract all the tags having the company names.\n",
    "companies_tags=driver.find_elements_by_xpath(\"//a[@class='subTitle ellipsis fleft']\")\n",
    "companies_tags[0:10]"
   ]
  },
  {
   "cell_type": "code",
   "execution_count": 79,
   "id": "db53912e",
   "metadata": {},
   "outputs": [
    {
     "data": {
      "text/plain": [
       "[]"
      ]
     },
     "execution_count": 79,
     "metadata": {},
     "output_type": "execute_result"
    }
   ],
   "source": [
    "#now lets extract the tags from the above tags.\n",
    "for i in companies_tags:\n",
    "    company_name=i.text\n",
    "    company_names.append(company_name)\n",
    "company_names=company_names[0:10]\n",
    "company_names"
   ]
  },
  {
   "cell_type": "code",
   "execution_count": 80,
   "id": "06639731",
   "metadata": {},
   "outputs": [
    {
     "data": {
      "text/plain": [
       "[]"
      ]
     },
     "execution_count": 80,
     "metadata": {},
     "output_type": "execute_result"
    }
   ],
   "source": [
    "#so lets extract all the tags having the experience required data.\n",
    "experience_tags=driver.find_elements_by_xpath(\"//li[@class='fleft grey-text br2 placeHolderLi experience']\")\n",
    "experience_tags[0:10]"
   ]
  },
  {
   "cell_type": "code",
   "execution_count": 81,
   "id": "03e1b382",
   "metadata": {},
   "outputs": [
    {
     "data": {
      "text/plain": [
       "[]"
      ]
     },
     "execution_count": 81,
     "metadata": {},
     "output_type": "execute_result"
    }
   ],
   "source": [
    "#lets extract experience details from the above tags.\n",
    "for i in experience_tags[0:10]:\n",
    "    experience=i.text\n",
    "    experience_list.append(experience)\n",
    "experience_list"
   ]
  },
  {
   "cell_type": "code",
   "execution_count": 82,
   "id": "4f66409e",
   "metadata": {},
   "outputs": [
    {
     "data": {
      "text/plain": [
       "[]"
      ]
     },
     "execution_count": 82,
     "metadata": {},
     "output_type": "execute_result"
    }
   ],
   "source": [
    "#now lets extract all the tags where we have the location of the job data.\n",
    "locations_tags=driver.find_elements_by_xpath(\"//li[@class='fleft grey-text br2 placeHolderLi location']\")\n",
    "locations_tags[0:10]"
   ]
  },
  {
   "cell_type": "code",
   "execution_count": 83,
   "id": "16d3ce49",
   "metadata": {},
   "outputs": [
    {
     "data": {
      "text/plain": [
       "[]"
      ]
     },
     "execution_count": 83,
     "metadata": {},
     "output_type": "execute_result"
    }
   ],
   "source": [
    "#lets extract text in location tags.\n",
    "for i in locations_tags[0:10]:\n",
    "    location=i.text\n",
    "    location_list.append(location)\n",
    "location_list"
   ]
  },
  {
   "cell_type": "code",
   "execution_count": 84,
   "id": "01d9b9cc",
   "metadata": {},
   "outputs": [
    {
     "name": "stdout",
     "output_type": "stream",
     "text": [
      "0 0 0 0\n"
     ]
    }
   ],
   "source": [
    "#lets check length of each list.\n",
    "print(len(job_titles),len(company_names),len(experience_list),len(location_list))"
   ]
  },
  {
   "cell_type": "code",
   "execution_count": 85,
   "id": "d016201e",
   "metadata": {},
   "outputs": [
    {
     "data": {
      "text/html": [
       "<div>\n",
       "<style scoped>\n",
       "    .dataframe tbody tr th:only-of-type {\n",
       "        vertical-align: middle;\n",
       "    }\n",
       "\n",
       "    .dataframe tbody tr th {\n",
       "        vertical-align: top;\n",
       "    }\n",
       "\n",
       "    .dataframe thead th {\n",
       "        text-align: right;\n",
       "    }\n",
       "</style>\n",
       "<table border=\"1\" class=\"dataframe\">\n",
       "  <thead>\n",
       "    <tr style=\"text-align: right;\">\n",
       "      <th></th>\n",
       "      <th>title</th>\n",
       "      <th>company</th>\n",
       "      <th>experience_required</th>\n",
       "      <th>location</th>\n",
       "    </tr>\n",
       "  </thead>\n",
       "  <tbody>\n",
       "  </tbody>\n",
       "</table>\n",
       "</div>"
      ],
      "text/plain": [
       "Empty DataFrame\n",
       "Columns: [title, company, experience_required, location]\n",
       "Index: []"
      ]
     },
     "execution_count": 85,
     "metadata": {},
     "output_type": "execute_result"
    }
   ],
   "source": [
    "#lets make tha dataframe.\n",
    "jobs=pd.DataFrame({})\n",
    "jobs['title']=job_titles\n",
    "jobs['company']=company_names\n",
    "jobs['experience_required']=experience_list\n",
    "jobs['location']=location_list\n",
    "jobs"
   ]
  },
  {
   "cell_type": "code",
   "execution_count": null,
   "id": "ffd2f401",
   "metadata": {},
   "outputs": [],
   "source": []
  },
  {
   "cell_type": "markdown",
   "id": "196fe462",
   "metadata": {},
   "source": [
    "# 2"
   ]
  },
  {
   "cell_type": "markdown",
   "id": "18874cc9",
   "metadata": {},
   "source": [
    "Q2: Write a python program to scrape data for “Data Scientist” Job position in “Bangalore” location. You\n",
    "have to scrape the job-title, job-location, company_name. You have to scrape first 10 jobs data.\n",
    "This task will be done in following steps:\n",
    "1. First get the webpage https://www.naukri.com/\n",
    "2. Enter “Data Scientist” in “Skill, Designations, Companies” field and enter “Bangalore” in “enter the\n",
    "location” field.\n",
    "3. Then click the search button.\n",
    "4. Then scrape the data for the first 10 jobs results you get.\n",
    "5. Finally create a dataframe of the scraped data."
   ]
  },
  {
   "cell_type": "code",
   "execution_count": 86,
   "id": "5ba3f551",
   "metadata": {},
   "outputs": [],
   "source": [
    "#let me first import all required libraries.\n",
    "import selenium\n",
    "import pandas as pd\n",
    "from selenium import webdriver\n",
    "import warnings\n",
    "warnings.filterwarnings(\"ignore\")\n",
    "import time"
   ]
  },
  {
   "cell_type": "code",
   "execution_count": 87,
   "id": "1dad8dee",
   "metadata": {},
   "outputs": [],
   "source": [
    "#first connect to the web driver.\n",
    "driver=webdriver.Chrome(r\"C:\\Users\\USER\\Downloads\\chromedriver_win32\\chromedriver.exe\")\n"
   ]
  },
  {
   "cell_type": "code",
   "execution_count": 88,
   "id": "bc4d420d",
   "metadata": {},
   "outputs": [],
   "source": [
    "driver=webdriver.Chrome(\"chromedriver.exe\")\n",
    "time.sleep(2)"
   ]
  },
  {
   "cell_type": "code",
   "execution_count": 89,
   "id": "99251f72",
   "metadata": {},
   "outputs": [],
   "source": [
    "driver.get('https://www.naukri.com/')"
   ]
  },
  {
   "cell_type": "code",
   "execution_count": 90,
   "id": "c1e4c664",
   "metadata": {},
   "outputs": [],
   "source": [
    "#finding elements for the job search bar\n",
    "search_field_designation=driver.find_element_by_class_name(\"suggestor-input \")\n",
    "search_field_designation.send_keys(\"Data Scientist\")\n",
    "search_field_location=driver.find_element_by_xpath(\"/html/body/div/div[2]/div[3]/div/div/div[3]/div/div/div/input\")\n",
    "search_field_location.send_keys(\"Bangalore\")"
   ]
  },
  {
   "cell_type": "code",
   "execution_count": 91,
   "id": "27c3a8ff",
   "metadata": {},
   "outputs": [],
   "source": [
    "#lets click search button.\n",
    "search_button=driver.find_element_by_xpath(\"/html/body/div/div[2]/div[3]/div/div/div[6]\")\n",
    "search_button.click()"
   ]
  },
  {
   "cell_type": "code",
   "execution_count": 92,
   "id": "573f0e2f",
   "metadata": {},
   "outputs": [],
   "source": [
    "#lets create empty list for storing our data\n",
    "job_titles=[]\n",
    "company_names=[]\n",
    "location_list=[]\n",
    "experience_list=[]"
   ]
  },
  {
   "cell_type": "code",
   "execution_count": 94,
   "id": "d5b62d82",
   "metadata": {},
   "outputs": [
    {
     "data": {
      "text/plain": [
       "[<selenium.webdriver.remote.webelement.WebElement (session=\"ae64b63c5c45640705bb1d46290f0225\", element=\"e1623523-db4a-47a2-a9c1-39a04462417f\")>,\n",
       " <selenium.webdriver.remote.webelement.WebElement (session=\"ae64b63c5c45640705bb1d46290f0225\", element=\"200af2d9-0c44-47e6-b5e7-88f3da55b27b\")>,\n",
       " <selenium.webdriver.remote.webelement.WebElement (session=\"ae64b63c5c45640705bb1d46290f0225\", element=\"5c67db6b-435b-42f7-b6ae-22ebe87500cd\")>,\n",
       " <selenium.webdriver.remote.webelement.WebElement (session=\"ae64b63c5c45640705bb1d46290f0225\", element=\"f4199afb-2563-4a40-9417-9cc970986c78\")>,\n",
       " <selenium.webdriver.remote.webelement.WebElement (session=\"ae64b63c5c45640705bb1d46290f0225\", element=\"3a73b758-5cee-4a2f-adc6-2bbbb7d656da\")>,\n",
       " <selenium.webdriver.remote.webelement.WebElement (session=\"ae64b63c5c45640705bb1d46290f0225\", element=\"bcd2950d-b9f3-447a-8b4f-99762a77d7af\")>,\n",
       " <selenium.webdriver.remote.webelement.WebElement (session=\"ae64b63c5c45640705bb1d46290f0225\", element=\"430656a4-aba9-4fdf-bc09-2f46cece53de\")>,\n",
       " <selenium.webdriver.remote.webelement.WebElement (session=\"ae64b63c5c45640705bb1d46290f0225\", element=\"ba1c1fe3-8eb6-4fcd-8bf3-239e1a547f0c\")>,\n",
       " <selenium.webdriver.remote.webelement.WebElement (session=\"ae64b63c5c45640705bb1d46290f0225\", element=\"26ddf6bc-371c-4702-99db-47ac29d2f613\")>,\n",
       " <selenium.webdriver.remote.webelement.WebElement (session=\"ae64b63c5c45640705bb1d46290f0225\", element=\"05b8cd63-1f1a-48bc-b281-abbd083acb88\")>]"
      ]
     },
     "execution_count": 94,
     "metadata": {},
     "output_type": "execute_result"
    }
   ],
   "source": [
    "#so lets extract all th tags having the job titles.\n",
    "titles_tags=driver.find_elements_by_xpath(\"//a[@class='title fw500 ellipsis']\")\n",
    "titles_tags[0:10]"
   ]
  },
  {
   "cell_type": "code",
   "execution_count": 95,
   "id": "bb70f140",
   "metadata": {},
   "outputs": [
    {
     "data": {
      "text/plain": [
       "['Senior Data Scientist (IN4)',\n",
       " 'Senior Data Scientist',\n",
       " 'Senior Data Scientist',\n",
       " 'Data Scientist - IN3',\n",
       " 'Data Science - Data Scientist',\n",
       " 'Urgent Hiring For AI Data Scientist',\n",
       " 'Associate Data Scientist',\n",
       " 'Senior Data Scientist',\n",
       " 'Lead Data Scientist',\n",
       " 'Senior Data Scientist']"
      ]
     },
     "execution_count": 95,
     "metadata": {},
     "output_type": "execute_result"
    }
   ],
   "source": [
    "#now lets extract the text from tags.\n",
    "for i in titles_tags[0:10]:\n",
    "    title=i.text\n",
    "    job_titles.append(title)\n",
    "job_titles"
   ]
  },
  {
   "cell_type": "code",
   "execution_count": 97,
   "id": "3a107e16",
   "metadata": {},
   "outputs": [
    {
     "data": {
      "text/plain": [
       "[<selenium.webdriver.remote.webelement.WebElement (session=\"ae64b63c5c45640705bb1d46290f0225\", element=\"ddc90d40-6571-4ac4-a096-979fee59bc2c\")>,\n",
       " <selenium.webdriver.remote.webelement.WebElement (session=\"ae64b63c5c45640705bb1d46290f0225\", element=\"0a44f425-4c57-42a5-ae6e-5df268373fc1\")>,\n",
       " <selenium.webdriver.remote.webelement.WebElement (session=\"ae64b63c5c45640705bb1d46290f0225\", element=\"51fdf97a-a440-45e8-beda-e44c10e32d7e\")>,\n",
       " <selenium.webdriver.remote.webelement.WebElement (session=\"ae64b63c5c45640705bb1d46290f0225\", element=\"e592cd63-6d9f-4b89-a365-bebca91cde7a\")>,\n",
       " <selenium.webdriver.remote.webelement.WebElement (session=\"ae64b63c5c45640705bb1d46290f0225\", element=\"c7fc7ed7-37e8-4628-b7c6-1dd5bbd3e511\")>,\n",
       " <selenium.webdriver.remote.webelement.WebElement (session=\"ae64b63c5c45640705bb1d46290f0225\", element=\"4d55df41-d5a4-4bc9-984e-14cd7469c2ca\")>,\n",
       " <selenium.webdriver.remote.webelement.WebElement (session=\"ae64b63c5c45640705bb1d46290f0225\", element=\"cc7742db-157a-4598-85f7-c5c412ccf05d\")>,\n",
       " <selenium.webdriver.remote.webelement.WebElement (session=\"ae64b63c5c45640705bb1d46290f0225\", element=\"350aa595-9fca-489b-a048-c5dd493d4c02\")>,\n",
       " <selenium.webdriver.remote.webelement.WebElement (session=\"ae64b63c5c45640705bb1d46290f0225\", element=\"964a8424-2cc6-468d-96d1-6ec9733930a7\")>,\n",
       " <selenium.webdriver.remote.webelement.WebElement (session=\"ae64b63c5c45640705bb1d46290f0225\", element=\"704666a2-4712-4d8e-abaa-78243fe7ee2a\")>]"
      ]
     },
     "execution_count": 97,
     "metadata": {},
     "output_type": "execute_result"
    }
   ],
   "source": [
    "#so lets extract all the tags having the company names.\n",
    "companies_tags=driver.find_elements_by_xpath(\"//a[@class='subTitle ellipsis fleft']\")\n",
    "companies_tags[0:10]"
   ]
  },
  {
   "cell_type": "code",
   "execution_count": 98,
   "id": "9f4514b5",
   "metadata": {},
   "outputs": [
    {
     "data": {
      "text/plain": [
       "['Walmart',\n",
       " 'Walmart',\n",
       " 'Truecaller',\n",
       " 'Walmart',\n",
       " 'Paytm',\n",
       " 'Ashkom Media India Private Limited',\n",
       " 'IDFC FIRST Bank',\n",
       " 'Ericsson Global Services',\n",
       " 'Groww',\n",
       " 'PayU']"
      ]
     },
     "execution_count": 98,
     "metadata": {},
     "output_type": "execute_result"
    }
   ],
   "source": [
    "#now lets extract the text.\n",
    "for i in companies_tags[0:10]:\n",
    "    company_name=i.text\n",
    "    company_names.append(company_name)\n",
    "company_names"
   ]
  },
  {
   "cell_type": "code",
   "execution_count": 99,
   "id": "73c38361",
   "metadata": {},
   "outputs": [
    {
     "data": {
      "text/plain": [
       "[<selenium.webdriver.remote.webelement.WebElement (session=\"ae64b63c5c45640705bb1d46290f0225\", element=\"5c504f08-569b-48fb-a05b-3ad0615f592c\")>,\n",
       " <selenium.webdriver.remote.webelement.WebElement (session=\"ae64b63c5c45640705bb1d46290f0225\", element=\"1d851570-60fb-4faa-887b-88e8c33f0a36\")>,\n",
       " <selenium.webdriver.remote.webelement.WebElement (session=\"ae64b63c5c45640705bb1d46290f0225\", element=\"0519c7a8-4e0a-43b1-b1c4-f55e890cd6c9\")>,\n",
       " <selenium.webdriver.remote.webelement.WebElement (session=\"ae64b63c5c45640705bb1d46290f0225\", element=\"25fbdb79-c251-4ce8-b37f-dc08d76256d4\")>,\n",
       " <selenium.webdriver.remote.webelement.WebElement (session=\"ae64b63c5c45640705bb1d46290f0225\", element=\"5ed686a3-18dd-4704-a548-ec474ed5982f\")>,\n",
       " <selenium.webdriver.remote.webelement.WebElement (session=\"ae64b63c5c45640705bb1d46290f0225\", element=\"4ace6542-918e-44b7-b560-1e4985e781b3\")>,\n",
       " <selenium.webdriver.remote.webelement.WebElement (session=\"ae64b63c5c45640705bb1d46290f0225\", element=\"5db587eb-f49c-40ea-b538-7f63a52c50aa\")>,\n",
       " <selenium.webdriver.remote.webelement.WebElement (session=\"ae64b63c5c45640705bb1d46290f0225\", element=\"ac6726d0-a814-4bfc-8fd0-e3f12b00c565\")>,\n",
       " <selenium.webdriver.remote.webelement.WebElement (session=\"ae64b63c5c45640705bb1d46290f0225\", element=\"ba94708c-c8c2-4ec6-8147-8be578333cee\")>,\n",
       " <selenium.webdriver.remote.webelement.WebElement (session=\"ae64b63c5c45640705bb1d46290f0225\", element=\"6fe66006-2e76-4fcf-a847-655dba54d5d0\")>]"
      ]
     },
     "execution_count": 99,
     "metadata": {},
     "output_type": "execute_result"
    }
   ],
   "source": [
    "#so lets extract all the tags having experience required data.\n",
    "experience_tags=driver.find_elements_by_xpath(\"//li[@class='fleft grey-text br2 placeHolderLi experience']\")\n",
    "experience_tags[0:10]"
   ]
  },
  {
   "cell_type": "code",
   "execution_count": 100,
   "id": "0f5794b7",
   "metadata": {},
   "outputs": [
    {
     "data": {
      "text/plain": [
       "['5-9 Yrs',\n",
       " '5-9 Yrs',\n",
       " '2-5 Yrs',\n",
       " '7-11 Yrs',\n",
       " '1-3 Yrs',\n",
       " '1-4 Yrs',\n",
       " '3-7 Yrs',\n",
       " '10-15 Yrs',\n",
       " '5-8 Yrs',\n",
       " '3-7 Yrs']"
      ]
     },
     "execution_count": 100,
     "metadata": {},
     "output_type": "execute_result"
    }
   ],
   "source": [
    "for i in experience_tags[0:10]:\n",
    "    experience=i.text\n",
    "    experience_list.append(experience)\n",
    "experience_list    "
   ]
  },
  {
   "cell_type": "code",
   "execution_count": 109,
   "id": "13be9020",
   "metadata": {},
   "outputs": [
    {
     "data": {
      "text/plain": [
       "[<selenium.webdriver.remote.webelement.WebElement (session=\"ae64b63c5c45640705bb1d46290f0225\", element=\"4efc88ec-14e0-411d-815c-0196d34f406d\")>,\n",
       " <selenium.webdriver.remote.webelement.WebElement (session=\"ae64b63c5c45640705bb1d46290f0225\", element=\"1ee868ca-229e-43bc-8256-866edfb2fa06\")>,\n",
       " <selenium.webdriver.remote.webelement.WebElement (session=\"ae64b63c5c45640705bb1d46290f0225\", element=\"f712e713-3a61-4f19-853a-86a1de3a7762\")>,\n",
       " <selenium.webdriver.remote.webelement.WebElement (session=\"ae64b63c5c45640705bb1d46290f0225\", element=\"b987cb72-92a4-407f-bfea-5666ac7385b5\")>,\n",
       " <selenium.webdriver.remote.webelement.WebElement (session=\"ae64b63c5c45640705bb1d46290f0225\", element=\"49225afb-d7bd-464e-9ea7-a55af8c6ea32\")>,\n",
       " <selenium.webdriver.remote.webelement.WebElement (session=\"ae64b63c5c45640705bb1d46290f0225\", element=\"70287a82-32df-4a7f-a405-abd1d4797446\")>,\n",
       " <selenium.webdriver.remote.webelement.WebElement (session=\"ae64b63c5c45640705bb1d46290f0225\", element=\"dc3c0943-43f8-4bd1-90ac-6b46f01b47f2\")>,\n",
       " <selenium.webdriver.remote.webelement.WebElement (session=\"ae64b63c5c45640705bb1d46290f0225\", element=\"fd788554-f456-479b-b2e3-5dd9ec93dd81\")>,\n",
       " <selenium.webdriver.remote.webelement.WebElement (session=\"ae64b63c5c45640705bb1d46290f0225\", element=\"32a2be92-9a22-4ccb-9218-89be54d66d85\")>,\n",
       " <selenium.webdriver.remote.webelement.WebElement (session=\"ae64b63c5c45640705bb1d46290f0225\", element=\"268a9b51-6384-4649-9271-4d5d7aa222d6\")>]"
      ]
     },
     "execution_count": 109,
     "metadata": {},
     "output_type": "execute_result"
    }
   ],
   "source": [
    "#now lets extract locations\n",
    "location_tags=driver.find_elements_by_xpath(\"//li[@class='fleft grey-text br2 placeHolderLi location']\")\n",
    "location_tags[0:10]"
   ]
  },
  {
   "cell_type": "code",
   "execution_count": 110,
   "id": "7fda238b",
   "metadata": {},
   "outputs": [
    {
     "data": {
      "text/plain": [
       "['Bangalore/Bengaluru',\n",
       " 'Bangalore/Bengaluru',\n",
       " 'Bangalore/Bengaluru',\n",
       " 'Bangalore/Bengaluru',\n",
       " 'Pune, Bangalore/Bengaluru',\n",
       " 'New Delhi, Bangalore/Bengaluru, Mumbai (All Areas)\\n(WFH during Covid)',\n",
       " 'Mumbai, Pune, Bangalore/Bengaluru, Mumbai',\n",
       " 'Bangalore/Bengaluru',\n",
       " 'Bangalore/Bengaluru',\n",
       " 'Bangalore/Bengaluru']"
      ]
     },
     "execution_count": 110,
     "metadata": {},
     "output_type": "execute_result"
    }
   ],
   "source": [
    "for i in location_tags[0:10]:\n",
    "    location=i.text\n",
    "    location_list.append(location)\n",
    "location_list"
   ]
  },
  {
   "cell_type": "code",
   "execution_count": 111,
   "id": "9ad4e9b6",
   "metadata": {},
   "outputs": [
    {
     "name": "stdout",
     "output_type": "stream",
     "text": [
      "10 10 10 10\n"
     ]
    }
   ],
   "source": [
    "#lets check the length of each list.\n",
    "print(len(job_titles),len(company_names),len(experience_list),len(location_list))"
   ]
  },
  {
   "cell_type": "code",
   "execution_count": 112,
   "id": "b67b8527",
   "metadata": {},
   "outputs": [
    {
     "data": {
      "text/html": [
       "<div>\n",
       "<style scoped>\n",
       "    .dataframe tbody tr th:only-of-type {\n",
       "        vertical-align: middle;\n",
       "    }\n",
       "\n",
       "    .dataframe tbody tr th {\n",
       "        vertical-align: top;\n",
       "    }\n",
       "\n",
       "    .dataframe thead th {\n",
       "        text-align: right;\n",
       "    }\n",
       "</style>\n",
       "<table border=\"1\" class=\"dataframe\">\n",
       "  <thead>\n",
       "    <tr style=\"text-align: right;\">\n",
       "      <th></th>\n",
       "      <th>title</th>\n",
       "      <th>company</th>\n",
       "      <th>experience_required</th>\n",
       "      <th>location</th>\n",
       "    </tr>\n",
       "  </thead>\n",
       "  <tbody>\n",
       "    <tr>\n",
       "      <th>0</th>\n",
       "      <td>Senior Data Scientist (IN4)</td>\n",
       "      <td>Walmart</td>\n",
       "      <td>5-9 Yrs</td>\n",
       "      <td>Bangalore/Bengaluru</td>\n",
       "    </tr>\n",
       "    <tr>\n",
       "      <th>1</th>\n",
       "      <td>Senior Data Scientist</td>\n",
       "      <td>Walmart</td>\n",
       "      <td>5-9 Yrs</td>\n",
       "      <td>Bangalore/Bengaluru</td>\n",
       "    </tr>\n",
       "    <tr>\n",
       "      <th>2</th>\n",
       "      <td>Senior Data Scientist</td>\n",
       "      <td>Truecaller</td>\n",
       "      <td>2-5 Yrs</td>\n",
       "      <td>Bangalore/Bengaluru</td>\n",
       "    </tr>\n",
       "    <tr>\n",
       "      <th>3</th>\n",
       "      <td>Data Scientist - IN3</td>\n",
       "      <td>Walmart</td>\n",
       "      <td>7-11 Yrs</td>\n",
       "      <td>Bangalore/Bengaluru</td>\n",
       "    </tr>\n",
       "    <tr>\n",
       "      <th>4</th>\n",
       "      <td>Data Science - Data Scientist</td>\n",
       "      <td>Paytm</td>\n",
       "      <td>1-3 Yrs</td>\n",
       "      <td>Pune, Bangalore/Bengaluru</td>\n",
       "    </tr>\n",
       "    <tr>\n",
       "      <th>5</th>\n",
       "      <td>Urgent Hiring For AI Data Scientist</td>\n",
       "      <td>Ashkom Media India Private Limited</td>\n",
       "      <td>1-4 Yrs</td>\n",
       "      <td>New Delhi, Bangalore/Bengaluru, Mumbai (All Ar...</td>\n",
       "    </tr>\n",
       "    <tr>\n",
       "      <th>6</th>\n",
       "      <td>Associate Data Scientist</td>\n",
       "      <td>IDFC FIRST Bank</td>\n",
       "      <td>3-7 Yrs</td>\n",
       "      <td>Mumbai, Pune, Bangalore/Bengaluru, Mumbai</td>\n",
       "    </tr>\n",
       "    <tr>\n",
       "      <th>7</th>\n",
       "      <td>Senior Data Scientist</td>\n",
       "      <td>Ericsson Global Services</td>\n",
       "      <td>10-15 Yrs</td>\n",
       "      <td>Bangalore/Bengaluru</td>\n",
       "    </tr>\n",
       "    <tr>\n",
       "      <th>8</th>\n",
       "      <td>Lead Data Scientist</td>\n",
       "      <td>Groww</td>\n",
       "      <td>5-8 Yrs</td>\n",
       "      <td>Bangalore/Bengaluru</td>\n",
       "    </tr>\n",
       "    <tr>\n",
       "      <th>9</th>\n",
       "      <td>Senior Data Scientist</td>\n",
       "      <td>PayU</td>\n",
       "      <td>3-7 Yrs</td>\n",
       "      <td>Bangalore/Bengaluru</td>\n",
       "    </tr>\n",
       "  </tbody>\n",
       "</table>\n",
       "</div>"
      ],
      "text/plain": [
       "                                 title                             company  \\\n",
       "0          Senior Data Scientist (IN4)                             Walmart   \n",
       "1                Senior Data Scientist                             Walmart   \n",
       "2                Senior Data Scientist                          Truecaller   \n",
       "3                 Data Scientist - IN3                             Walmart   \n",
       "4        Data Science - Data Scientist                               Paytm   \n",
       "5  Urgent Hiring For AI Data Scientist  Ashkom Media India Private Limited   \n",
       "6             Associate Data Scientist                     IDFC FIRST Bank   \n",
       "7                Senior Data Scientist            Ericsson Global Services   \n",
       "8                  Lead Data Scientist                               Groww   \n",
       "9                Senior Data Scientist                                PayU   \n",
       "\n",
       "  experience_required                                           location  \n",
       "0             5-9 Yrs                                Bangalore/Bengaluru  \n",
       "1             5-9 Yrs                                Bangalore/Bengaluru  \n",
       "2             2-5 Yrs                                Bangalore/Bengaluru  \n",
       "3            7-11 Yrs                                Bangalore/Bengaluru  \n",
       "4             1-3 Yrs                          Pune, Bangalore/Bengaluru  \n",
       "5             1-4 Yrs  New Delhi, Bangalore/Bengaluru, Mumbai (All Ar...  \n",
       "6             3-7 Yrs          Mumbai, Pune, Bangalore/Bengaluru, Mumbai  \n",
       "7           10-15 Yrs                                Bangalore/Bengaluru  \n",
       "8             5-8 Yrs                                Bangalore/Bengaluru  \n",
       "9             3-7 Yrs                                Bangalore/Bengaluru  "
      ]
     },
     "execution_count": 112,
     "metadata": {},
     "output_type": "execute_result"
    }
   ],
   "source": [
    "#lets make the dataframe.\n",
    "jobs=pd.DataFrame({})\n",
    "jobs['title']=job_titles\n",
    "jobs['company']=company_names\n",
    "jobs['experience_required']=experience_list\n",
    "jobs['location']=location_list\n",
    "jobs"
   ]
  },
  {
   "cell_type": "code",
   "execution_count": null,
   "id": "f9623afe",
   "metadata": {},
   "outputs": [],
   "source": []
  },
  {
   "cell_type": "code",
   "execution_count": null,
   "id": "9ba75588",
   "metadata": {},
   "outputs": [],
   "source": []
  },
  {
   "cell_type": "markdown",
   "id": "645ac054",
   "metadata": {},
   "source": [
    "# 3"
   ]
  },
  {
   "cell_type": "markdown",
   "id": "6066a2cd",
   "metadata": {},
   "source": [
    "Q3: In this question you have to scrape data using the filters available on the webpage as shown below:\n",
    "\n",
    "You have to use the location and salary filter.\n",
    "You have to scrape data for “Data Scientist” designation for first 10 job results.\n",
    "You have to scrape the job-title, job-location, company name, experience required.\n",
    "The location filter to be used is “Delhi/NCR”. The salary filter to be used is “3-6” lakhs\n",
    "The task will be done as shown in the below steps:\n",
    "1. first get the webpage https://www.naukri.com/\n",
    "2. Enter “Data Scientist” in “Skill, Designations, and Companies” field.\n",
    "3. Then click the search button.\n",
    "4. Then apply the location filter and salary filter by checking the respective boxes\n",
    "5. Then scrape the data for the first 10 jobs results you get.\n",
    "6. Finally create a dataframe of the scraped data.\n",
    "Note: All of the above steps have to be done in code. No step is to be done manually."
   ]
  },
  {
   "cell_type": "code",
   "execution_count": 113,
   "id": "a9f9ad3d",
   "metadata": {},
   "outputs": [],
   "source": [
    "#let me first import all required libraries.\n",
    "import selenium\n",
    "import pandas as pd\n",
    "from selenium import webdriver\n",
    "import warnings\n",
    "warnings.filterwarnings(\"ignore\")\n",
    "import time"
   ]
  },
  {
   "cell_type": "code",
   "execution_count": 114,
   "id": "41a9f1c4",
   "metadata": {},
   "outputs": [],
   "source": [
    "#first connect to the web driver.\n",
    "driver=webdriver.Chrome(r\"C:\\Users\\USER\\Downloads\\chromedriver_win32\\chromedriver.exe\")"
   ]
  },
  {
   "cell_type": "code",
   "execution_count": 115,
   "id": "08448bb6",
   "metadata": {},
   "outputs": [],
   "source": [
    "driver=webdriver.Chrome(\"chromedriver.exe\")\n",
    "time.sleep(2)"
   ]
  },
  {
   "cell_type": "code",
   "execution_count": 116,
   "id": "857aeb3c",
   "metadata": {},
   "outputs": [],
   "source": [
    "driver.get('https://www.naukri.com/')"
   ]
  },
  {
   "cell_type": "code",
   "execution_count": 117,
   "id": "a070cfb6",
   "metadata": {},
   "outputs": [],
   "source": [
    "#finding elements for the job search bar\n",
    "search_field_designation=driver.find_element_by_class_name(\"suggestor-input \")\n",
    "search_field_designation.send_keys(\"Data Scientist\")"
   ]
  },
  {
   "cell_type": "code",
   "execution_count": 119,
   "id": "7d1441a6",
   "metadata": {},
   "outputs": [],
   "source": [
    "#lets click search button.\n",
    "search_button=driver.find_element_by_xpath(\"/html/body/div/div[2]/div[3]/div/div/div[6]\")\n",
    "search_button.click()"
   ]
  },
  {
   "cell_type": "code",
   "execution_count": 121,
   "id": "d9b6d9b7",
   "metadata": {},
   "outputs": [],
   "source": [
    "# lets click on the location filter button\n",
    "location_button=driver.find_element_by_xpath(\"/html/body/div[1]/div[3]/div[2]/section[1]/div[2]/div[1]/div[2]/div[3]/label/i\")\n",
    "location_button.click()"
   ]
  },
  {
   "cell_type": "code",
   "execution_count": 122,
   "id": "84277901",
   "metadata": {},
   "outputs": [],
   "source": [
    "# lets click on the salary filter button\n",
    "salary_filter=driver.find_element_by_xpath(\"/html/body/div[1]/div[3]/div[2]/section[1]/div[2]/div[5]/div[2]/div[2]/label/i\")\n",
    "salary_filter.click()"
   ]
  },
  {
   "cell_type": "code",
   "execution_count": 123,
   "id": "29d9d7fc",
   "metadata": {},
   "outputs": [],
   "source": [
    "#lets create empty list for storing our data\n",
    "job_titles=[]\n",
    "company_names=[]\n",
    "location_list=[]\n",
    "experience_list=[]"
   ]
  },
  {
   "cell_type": "code",
   "execution_count": 124,
   "id": "aabddb0b",
   "metadata": {},
   "outputs": [
    {
     "data": {
      "text/plain": [
       "[<selenium.webdriver.remote.webelement.WebElement (session=\"3b71fc4219399b9865c5c917356c1d4b\", element=\"36914519-6fba-4f93-a991-d07f6c39e54a\")>,\n",
       " <selenium.webdriver.remote.webelement.WebElement (session=\"3b71fc4219399b9865c5c917356c1d4b\", element=\"3f855604-41f1-421a-9080-bf72f407c7e1\")>,\n",
       " <selenium.webdriver.remote.webelement.WebElement (session=\"3b71fc4219399b9865c5c917356c1d4b\", element=\"68168c6a-3d28-41ca-b70d-bd5849c8bb02\")>,\n",
       " <selenium.webdriver.remote.webelement.WebElement (session=\"3b71fc4219399b9865c5c917356c1d4b\", element=\"37f8d158-1a91-4bce-9fba-45e5c5694b2f\")>,\n",
       " <selenium.webdriver.remote.webelement.WebElement (session=\"3b71fc4219399b9865c5c917356c1d4b\", element=\"7d477815-5969-4bcc-8b67-9850ad9cb077\")>,\n",
       " <selenium.webdriver.remote.webelement.WebElement (session=\"3b71fc4219399b9865c5c917356c1d4b\", element=\"e44ffdd1-3d2a-4459-90d1-64a926d0979c\")>,\n",
       " <selenium.webdriver.remote.webelement.WebElement (session=\"3b71fc4219399b9865c5c917356c1d4b\", element=\"c0c1f86f-6eec-4c30-84b8-7ede4e626c02\")>,\n",
       " <selenium.webdriver.remote.webelement.WebElement (session=\"3b71fc4219399b9865c5c917356c1d4b\", element=\"f741b2b9-ddd8-4e08-9b86-4248e437f23e\")>,\n",
       " <selenium.webdriver.remote.webelement.WebElement (session=\"3b71fc4219399b9865c5c917356c1d4b\", element=\"baa04667-e574-42a8-84bf-e525c6df0935\")>,\n",
       " <selenium.webdriver.remote.webelement.WebElement (session=\"3b71fc4219399b9865c5c917356c1d4b\", element=\"af381957-4eba-4dab-bac3-c1b461ddfe35\")>]"
      ]
     },
     "execution_count": 124,
     "metadata": {},
     "output_type": "execute_result"
    }
   ],
   "source": [
    "#so lets extract all th tags having the job titles.\n",
    "titles_tags=driver.find_elements_by_xpath(\"//a[@class='title fw500 ellipsis']\")\n",
    "titles_tags[0:10]"
   ]
  },
  {
   "cell_type": "code",
   "execution_count": 125,
   "id": "e32a1c8c",
   "metadata": {},
   "outputs": [
    {
     "data": {
      "text/plain": [
       "['Data Scientist/ Machine Learning, 2022 Passout Can also apply',\n",
       " 'Associate Data Scientist',\n",
       " 'Data Scientist (freelance)',\n",
       " 'Hiring For Senior Data Scientist-Noida',\n",
       " 'Opening For Data Scientist',\n",
       " 'Data Scientist',\n",
       " 'Data Scientist',\n",
       " 'AM Data Scientist - Goods & Service Tax Network, Delhi',\n",
       " 'Senior Data Scientist',\n",
       " 'Lead Data Scientist']"
      ]
     },
     "execution_count": 125,
     "metadata": {},
     "output_type": "execute_result"
    }
   ],
   "source": [
    "#now lets extract the text from tags.\n",
    "for i in titles_tags[0:10]:\n",
    "    title=i.text\n",
    "    job_titles.append(title)\n",
    "job_titles"
   ]
  },
  {
   "cell_type": "code",
   "execution_count": 126,
   "id": "f14dbe41",
   "metadata": {},
   "outputs": [
    {
     "data": {
      "text/plain": [
       "[<selenium.webdriver.remote.webelement.WebElement (session=\"3b71fc4219399b9865c5c917356c1d4b\", element=\"dd582c6f-b3d4-46fb-90fd-cf9642be459e\")>,\n",
       " <selenium.webdriver.remote.webelement.WebElement (session=\"3b71fc4219399b9865c5c917356c1d4b\", element=\"c1ff1c59-8a08-4f1d-bdac-6a778471e13a\")>,\n",
       " <selenium.webdriver.remote.webelement.WebElement (session=\"3b71fc4219399b9865c5c917356c1d4b\", element=\"7118d966-4d24-4e01-bd6c-f519b132764a\")>,\n",
       " <selenium.webdriver.remote.webelement.WebElement (session=\"3b71fc4219399b9865c5c917356c1d4b\", element=\"9c0b9c9d-80e1-441f-b7c5-e1cadfa74abf\")>,\n",
       " <selenium.webdriver.remote.webelement.WebElement (session=\"3b71fc4219399b9865c5c917356c1d4b\", element=\"006d3130-9053-4f64-9ccf-4af1c770ef8c\")>,\n",
       " <selenium.webdriver.remote.webelement.WebElement (session=\"3b71fc4219399b9865c5c917356c1d4b\", element=\"f7eb509c-f125-49a6-9831-baf478e93b5f\")>,\n",
       " <selenium.webdriver.remote.webelement.WebElement (session=\"3b71fc4219399b9865c5c917356c1d4b\", element=\"054ddf6f-9598-441e-b6fe-6da61fcee616\")>,\n",
       " <selenium.webdriver.remote.webelement.WebElement (session=\"3b71fc4219399b9865c5c917356c1d4b\", element=\"7dc88f1b-d3d9-4393-b009-c213d564cbda\")>,\n",
       " <selenium.webdriver.remote.webelement.WebElement (session=\"3b71fc4219399b9865c5c917356c1d4b\", element=\"aed6e104-896a-402c-8608-047ad3496aca\")>,\n",
       " <selenium.webdriver.remote.webelement.WebElement (session=\"3b71fc4219399b9865c5c917356c1d4b\", element=\"90e1ee35-2bef-47b1-885e-fa26561db5b3\")>]"
      ]
     },
     "execution_count": 126,
     "metadata": {},
     "output_type": "execute_result"
    }
   ],
   "source": [
    "#so lets extract all the tags having the company names.\n",
    "companies_tags=driver.find_elements_by_xpath(\"//a[@class='subTitle ellipsis fleft']\")\n",
    "companies_tags[0:10]"
   ]
  },
  {
   "cell_type": "code",
   "execution_count": 127,
   "id": "8e32dde5",
   "metadata": {},
   "outputs": [
    {
     "data": {
      "text/plain": [
       "['Creative Hands HR Consultancy',\n",
       " 'Optum',\n",
       " '2Coms',\n",
       " 'Lumiq.ai',\n",
       " 'Care Health Insurance',\n",
       " 'BlackBuck',\n",
       " 'Boston Consulting Group',\n",
       " 'NISG (National Institute for Smart Government)',\n",
       " 'iNICU',\n",
       " 'KIA INDIA PRIVATE LIMITED']"
      ]
     },
     "execution_count": 127,
     "metadata": {},
     "output_type": "execute_result"
    }
   ],
   "source": [
    "#now lets extract the text.\n",
    "for i in companies_tags[0:10]:\n",
    "    company_name=i.text\n",
    "    company_names.append(company_name)\n",
    "company_names"
   ]
  },
  {
   "cell_type": "code",
   "execution_count": 128,
   "id": "ecf09b18",
   "metadata": {},
   "outputs": [
    {
     "data": {
      "text/plain": [
       "[<selenium.webdriver.remote.webelement.WebElement (session=\"3b71fc4219399b9865c5c917356c1d4b\", element=\"d1223d4a-a46a-4303-9988-6efe961c5c1d\")>,\n",
       " <selenium.webdriver.remote.webelement.WebElement (session=\"3b71fc4219399b9865c5c917356c1d4b\", element=\"7568fd2f-04d8-4c09-9084-a72b13730621\")>,\n",
       " <selenium.webdriver.remote.webelement.WebElement (session=\"3b71fc4219399b9865c5c917356c1d4b\", element=\"103f8350-dc35-4813-b734-87ea4e9a2986\")>,\n",
       " <selenium.webdriver.remote.webelement.WebElement (session=\"3b71fc4219399b9865c5c917356c1d4b\", element=\"f81c947a-f53d-4434-b58d-33fdafd2d215\")>,\n",
       " <selenium.webdriver.remote.webelement.WebElement (session=\"3b71fc4219399b9865c5c917356c1d4b\", element=\"742ac3b5-7e74-4ffb-89c3-47036209f0e7\")>,\n",
       " <selenium.webdriver.remote.webelement.WebElement (session=\"3b71fc4219399b9865c5c917356c1d4b\", element=\"dccb51fe-de83-474e-ad4f-0e10d7eb51b1\")>,\n",
       " <selenium.webdriver.remote.webelement.WebElement (session=\"3b71fc4219399b9865c5c917356c1d4b\", element=\"62aa7779-0313-47fc-81d9-7b8be1d11285\")>,\n",
       " <selenium.webdriver.remote.webelement.WebElement (session=\"3b71fc4219399b9865c5c917356c1d4b\", element=\"2aca167f-a8c1-4669-aed0-f0d167bf4ff6\")>,\n",
       " <selenium.webdriver.remote.webelement.WebElement (session=\"3b71fc4219399b9865c5c917356c1d4b\", element=\"2d1091b7-fc11-4405-895b-337308aa5cad\")>,\n",
       " <selenium.webdriver.remote.webelement.WebElement (session=\"3b71fc4219399b9865c5c917356c1d4b\", element=\"3aafb364-f013-42d5-8b01-be34e12d97a1\")>]"
      ]
     },
     "execution_count": 128,
     "metadata": {},
     "output_type": "execute_result"
    }
   ],
   "source": [
    "#so lets extract all the tags having experience required data.\n",
    "experience_tags=driver.find_elements_by_xpath(\"//li[@class='fleft grey-text br2 placeHolderLi experience']\")\n",
    "experience_tags[0:10]"
   ]
  },
  {
   "cell_type": "code",
   "execution_count": 129,
   "id": "a865be08",
   "metadata": {},
   "outputs": [
    {
     "data": {
      "text/plain": [
       "['0-4 Yrs',\n",
       " '1-5 Yrs',\n",
       " '2-7 Yrs',\n",
       " '2-6 Yrs',\n",
       " '1-5 Yrs',\n",
       " '3-7 Yrs',\n",
       " '2-5 Yrs',\n",
       " '3-8 Yrs',\n",
       " '1-5 Yrs',\n",
       " '7-10 Yrs']"
      ]
     },
     "execution_count": 129,
     "metadata": {},
     "output_type": "execute_result"
    }
   ],
   "source": [
    "for i in experience_tags[0:10]:\n",
    "    experience=i.text\n",
    "    experience_list.append(experience)\n",
    "experience_list"
   ]
  },
  {
   "cell_type": "code",
   "execution_count": 130,
   "id": "83e24527",
   "metadata": {},
   "outputs": [
    {
     "data": {
      "text/plain": [
       "[<selenium.webdriver.remote.webelement.WebElement (session=\"3b71fc4219399b9865c5c917356c1d4b\", element=\"913c9816-08fe-4d44-bbdb-6d7112e2de86\")>,\n",
       " <selenium.webdriver.remote.webelement.WebElement (session=\"3b71fc4219399b9865c5c917356c1d4b\", element=\"ed1da356-d904-4d65-b337-f4ef4edbfc2b\")>,\n",
       " <selenium.webdriver.remote.webelement.WebElement (session=\"3b71fc4219399b9865c5c917356c1d4b\", element=\"a548258e-ff48-439b-8650-ef7a4b82db20\")>,\n",
       " <selenium.webdriver.remote.webelement.WebElement (session=\"3b71fc4219399b9865c5c917356c1d4b\", element=\"aa26b172-4fba-42ee-b600-e1d8f26a9e46\")>,\n",
       " <selenium.webdriver.remote.webelement.WebElement (session=\"3b71fc4219399b9865c5c917356c1d4b\", element=\"46484d6d-b46e-48b1-9ae9-54f42faf26e5\")>,\n",
       " <selenium.webdriver.remote.webelement.WebElement (session=\"3b71fc4219399b9865c5c917356c1d4b\", element=\"bfe109a1-5fbc-4739-9ea3-7093bcb29c64\")>,\n",
       " <selenium.webdriver.remote.webelement.WebElement (session=\"3b71fc4219399b9865c5c917356c1d4b\", element=\"aba08258-6c67-4e85-865f-18f55c35daa8\")>,\n",
       " <selenium.webdriver.remote.webelement.WebElement (session=\"3b71fc4219399b9865c5c917356c1d4b\", element=\"801eb648-bc64-4653-bbda-234b3d1776a2\")>,\n",
       " <selenium.webdriver.remote.webelement.WebElement (session=\"3b71fc4219399b9865c5c917356c1d4b\", element=\"41391ab3-3eb9-4c0a-ab46-9d8647ab208b\")>,\n",
       " <selenium.webdriver.remote.webelement.WebElement (session=\"3b71fc4219399b9865c5c917356c1d4b\", element=\"7ab968e1-f753-4be1-81b2-b92727d16539\")>]"
      ]
     },
     "execution_count": 130,
     "metadata": {},
     "output_type": "execute_result"
    }
   ],
   "source": [
    "#now lets extract locations\n",
    "location_tags=driver.find_elements_by_xpath(\"//li[@class='fleft grey-text br2 placeHolderLi location']\")\n",
    "location_tags[0:10]"
   ]
  },
  {
   "cell_type": "code",
   "execution_count": 131,
   "id": "d1dde248",
   "metadata": {},
   "outputs": [
    {
     "data": {
      "text/plain": [
       "['Hyderabad/Secunderabad, Ahmedabad, Chennai, Bangalore/Bengaluru, Delhi / NCR, Mumbai (All Areas)',\n",
       " 'Gurgaon/Gurugram',\n",
       " 'New Delhi, Delhi',\n",
       " 'Noida, Greater Noida, Delhi / NCR',\n",
       " 'Gurgaon/Gurugram',\n",
       " 'Gurgaon, Bengaluru',\n",
       " 'New Delhi',\n",
       " 'Delhi / NCR',\n",
       " 'Delhi',\n",
       " 'Gurgaon/Gurugram']"
      ]
     },
     "execution_count": 131,
     "metadata": {},
     "output_type": "execute_result"
    }
   ],
   "source": [
    "for i in location_tags[0:10]:\n",
    "    location=i.text\n",
    "    location_list.append(location)\n",
    "location_list"
   ]
  },
  {
   "cell_type": "code",
   "execution_count": 132,
   "id": "6a19c567",
   "metadata": {},
   "outputs": [
    {
     "name": "stdout",
     "output_type": "stream",
     "text": [
      "10 10 10 10\n"
     ]
    }
   ],
   "source": [
    "#lets check the length of each list.\n",
    "print(len(job_titles),len(company_names),len(experience_list),len(location_list))"
   ]
  },
  {
   "cell_type": "code",
   "execution_count": 133,
   "id": "6eb69869",
   "metadata": {},
   "outputs": [
    {
     "data": {
      "text/html": [
       "<div>\n",
       "<style scoped>\n",
       "    .dataframe tbody tr th:only-of-type {\n",
       "        vertical-align: middle;\n",
       "    }\n",
       "\n",
       "    .dataframe tbody tr th {\n",
       "        vertical-align: top;\n",
       "    }\n",
       "\n",
       "    .dataframe thead th {\n",
       "        text-align: right;\n",
       "    }\n",
       "</style>\n",
       "<table border=\"1\" class=\"dataframe\">\n",
       "  <thead>\n",
       "    <tr style=\"text-align: right;\">\n",
       "      <th></th>\n",
       "      <th>title</th>\n",
       "      <th>company</th>\n",
       "      <th>experience_required</th>\n",
       "      <th>location</th>\n",
       "    </tr>\n",
       "  </thead>\n",
       "  <tbody>\n",
       "    <tr>\n",
       "      <th>0</th>\n",
       "      <td>Data Scientist/ Machine Learning, 2022 Passout...</td>\n",
       "      <td>Creative Hands HR Consultancy</td>\n",
       "      <td>0-4 Yrs</td>\n",
       "      <td>Hyderabad/Secunderabad, Ahmedabad, Chennai, Ba...</td>\n",
       "    </tr>\n",
       "    <tr>\n",
       "      <th>1</th>\n",
       "      <td>Associate Data Scientist</td>\n",
       "      <td>Optum</td>\n",
       "      <td>1-5 Yrs</td>\n",
       "      <td>Gurgaon/Gurugram</td>\n",
       "    </tr>\n",
       "    <tr>\n",
       "      <th>2</th>\n",
       "      <td>Data Scientist (freelance)</td>\n",
       "      <td>2Coms</td>\n",
       "      <td>2-7 Yrs</td>\n",
       "      <td>New Delhi, Delhi</td>\n",
       "    </tr>\n",
       "    <tr>\n",
       "      <th>3</th>\n",
       "      <td>Hiring For Senior Data Scientist-Noida</td>\n",
       "      <td>Lumiq.ai</td>\n",
       "      <td>2-6 Yrs</td>\n",
       "      <td>Noida, Greater Noida, Delhi / NCR</td>\n",
       "    </tr>\n",
       "    <tr>\n",
       "      <th>4</th>\n",
       "      <td>Opening For Data Scientist</td>\n",
       "      <td>Care Health Insurance</td>\n",
       "      <td>1-5 Yrs</td>\n",
       "      <td>Gurgaon/Gurugram</td>\n",
       "    </tr>\n",
       "    <tr>\n",
       "      <th>5</th>\n",
       "      <td>Data Scientist</td>\n",
       "      <td>BlackBuck</td>\n",
       "      <td>3-7 Yrs</td>\n",
       "      <td>Gurgaon, Bengaluru</td>\n",
       "    </tr>\n",
       "    <tr>\n",
       "      <th>6</th>\n",
       "      <td>Data Scientist</td>\n",
       "      <td>Boston Consulting Group</td>\n",
       "      <td>2-5 Yrs</td>\n",
       "      <td>New Delhi</td>\n",
       "    </tr>\n",
       "    <tr>\n",
       "      <th>7</th>\n",
       "      <td>AM Data Scientist - Goods &amp; Service Tax Networ...</td>\n",
       "      <td>NISG (National Institute for Smart Government)</td>\n",
       "      <td>3-8 Yrs</td>\n",
       "      <td>Delhi / NCR</td>\n",
       "    </tr>\n",
       "    <tr>\n",
       "      <th>8</th>\n",
       "      <td>Senior Data Scientist</td>\n",
       "      <td>iNICU</td>\n",
       "      <td>1-5 Yrs</td>\n",
       "      <td>Delhi</td>\n",
       "    </tr>\n",
       "    <tr>\n",
       "      <th>9</th>\n",
       "      <td>Lead Data Scientist</td>\n",
       "      <td>KIA INDIA PRIVATE LIMITED</td>\n",
       "      <td>7-10 Yrs</td>\n",
       "      <td>Gurgaon/Gurugram</td>\n",
       "    </tr>\n",
       "  </tbody>\n",
       "</table>\n",
       "</div>"
      ],
      "text/plain": [
       "                                               title  \\\n",
       "0  Data Scientist/ Machine Learning, 2022 Passout...   \n",
       "1                           Associate Data Scientist   \n",
       "2                         Data Scientist (freelance)   \n",
       "3             Hiring For Senior Data Scientist-Noida   \n",
       "4                         Opening For Data Scientist   \n",
       "5                                     Data Scientist   \n",
       "6                                     Data Scientist   \n",
       "7  AM Data Scientist - Goods & Service Tax Networ...   \n",
       "8                              Senior Data Scientist   \n",
       "9                                Lead Data Scientist   \n",
       "\n",
       "                                          company experience_required  \\\n",
       "0                   Creative Hands HR Consultancy             0-4 Yrs   \n",
       "1                                           Optum             1-5 Yrs   \n",
       "2                                           2Coms             2-7 Yrs   \n",
       "3                                        Lumiq.ai             2-6 Yrs   \n",
       "4                           Care Health Insurance             1-5 Yrs   \n",
       "5                                       BlackBuck             3-7 Yrs   \n",
       "6                         Boston Consulting Group             2-5 Yrs   \n",
       "7  NISG (National Institute for Smart Government)             3-8 Yrs   \n",
       "8                                           iNICU             1-5 Yrs   \n",
       "9                       KIA INDIA PRIVATE LIMITED            7-10 Yrs   \n",
       "\n",
       "                                            location  \n",
       "0  Hyderabad/Secunderabad, Ahmedabad, Chennai, Ba...  \n",
       "1                                   Gurgaon/Gurugram  \n",
       "2                                   New Delhi, Delhi  \n",
       "3                  Noida, Greater Noida, Delhi / NCR  \n",
       "4                                   Gurgaon/Gurugram  \n",
       "5                                 Gurgaon, Bengaluru  \n",
       "6                                          New Delhi  \n",
       "7                                        Delhi / NCR  \n",
       "8                                              Delhi  \n",
       "9                                   Gurgaon/Gurugram  "
      ]
     },
     "execution_count": 133,
     "metadata": {},
     "output_type": "execute_result"
    }
   ],
   "source": [
    "#lets make the dataframe.\n",
    "jobs=pd.DataFrame({})\n",
    "jobs['title']=job_titles\n",
    "jobs['company']=company_names\n",
    "jobs['experience_required']=experience_list\n",
    "jobs['location']=location_list\n",
    "jobs"
   ]
  },
  {
   "cell_type": "code",
   "execution_count": null,
   "id": "97af3bfa",
   "metadata": {},
   "outputs": [],
   "source": []
  },
  {
   "cell_type": "markdown",
   "id": "2bb1f949",
   "metadata": {},
   "source": [
    "# 4"
   ]
  },
  {
   "cell_type": "markdown",
   "id": "066a7b2e",
   "metadata": {},
   "source": [
    "Q4: Scrape data of first 100 sunglasses listings on flipkart.com. You have to scrape four attributes:\n",
    "1. Brand\n",
    "2. Product Description\n",
    "3. Price\n",
    "The attributes which you have to scrape is ticked marked in the below image.\n",
    "\n",
    "To scrape the data you have to go through following steps:\n",
    "1. Go to Flipkart webpage by url : https://www.flipkart.com/\n",
    "2. Enter “sunglasses” in the search field where “search for products, brands andmore” is written and\n",
    "click the search icon\n",
    "3. After that you will reach to the page having a lot of sunglasses. From this page you can scrap the\n",
    "required data as usual.\n",
    "4. After scraping data from the first page, go to the “Next” Button at the bottom ofthe page , then\n",
    "click on it.\n",
    "5. Now scrape data from this page as usual\n",
    "6. Repeat this until you get data for 100 sunglasses.\n",
    "Note: That all of the above steps have to be done by coding only and not manually.\n"
   ]
  },
  {
   "cell_type": "code",
   "execution_count": 279,
   "id": "9ffa37f4",
   "metadata": {},
   "outputs": [],
   "source": [
    "#lets now import all required libraries.\n",
    "import selenium\n",
    "import pandas as pd\n",
    "from selenium import webdriver\n",
    "import warnings\n",
    "warnings.filterwarnings(\"ignore\")\n",
    "import time"
   ]
  },
  {
   "cell_type": "code",
   "execution_count": 280,
   "id": "9b450fb7",
   "metadata": {},
   "outputs": [],
   "source": [
    "#lets first connect to the web driver \n",
    "driver=webdriver.Chrome(r\"C:\\Users\\USER\\Downloads\\chromedriver_win32\\chromedriver.exe\")"
   ]
  },
  {
   "cell_type": "code",
   "execution_count": 281,
   "id": "75c47add",
   "metadata": {},
   "outputs": [],
   "source": [
    "driver=webdriver.Chrome(\"chromedriver.exe\")\n",
    "time.sleep(2)"
   ]
  },
  {
   "cell_type": "code",
   "execution_count": 282,
   "id": "2c6900f6",
   "metadata": {},
   "outputs": [],
   "source": [
    "driver.get(\"https://www.flipkart.com/\")"
   ]
  },
  {
   "cell_type": "code",
   "execution_count": 283,
   "id": "aab44446",
   "metadata": {},
   "outputs": [],
   "source": [
    "#lets enter sunglasses in enter field.\n",
    "search_field=driver.find_element_by_class_name(\"_3704LK\")\n",
    "search_field.send_keys(\"sunglasses\")"
   ]
  },
  {
   "cell_type": "code",
   "execution_count": 284,
   "id": "f70b163b",
   "metadata": {},
   "outputs": [],
   "source": [
    "#lets close the pop up window.\n",
    "popup=driver.find_element_by_xpath(\"/html/body/div[2]/div/div/button\")\n",
    "popup.click()"
   ]
  },
  {
   "cell_type": "code",
   "execution_count": 285,
   "id": "53d812b8",
   "metadata": {},
   "outputs": [],
   "source": [
    "#lets click the search button.\n",
    "search_button=driver.find_element_by_xpath(\"/html/body/div[1]/div/div[1]/div[1]/div[2]/div[2]/form/div/button\")\n",
    "search_button.click()"
   ]
  },
  {
   "cell_type": "code",
   "execution_count": 286,
   "id": "8ea2665d",
   "metadata": {},
   "outputs": [],
   "source": [
    "#lets create empty list to append the datas.\n",
    "brand_names=[]\n",
    "product_description=[]\n",
    "price=[]"
   ]
  },
  {
   "cell_type": "code",
   "execution_count": 287,
   "id": "f69bd09a",
   "metadata": {},
   "outputs": [
    {
     "data": {
      "text/plain": [
       "40"
      ]
     },
     "execution_count": 287,
     "metadata": {},
     "output_type": "execute_result"
    }
   ],
   "source": [
    "#so lets extract all the tags with brand name.\n",
    "brand_tags=driver.find_elements_by_xpath(\"//div[@class='_2WkVRV']\")\n",
    "len(brand_tags)"
   ]
  },
  {
   "cell_type": "code",
   "execution_count": 288,
   "id": "b06e55ec",
   "metadata": {},
   "outputs": [
    {
     "data": {
      "text/plain": [
       "['EYEWEARLABS', 'EYEWEARLABS', 'Fastrack', 'Elligator']"
      ]
     },
     "execution_count": 288,
     "metadata": {},
     "output_type": "execute_result"
    }
   ],
   "source": [
    "# lets extract and append the brand_names.\n",
    "for i in brand_tags:\n",
    "    brand=i.text\n",
    "    brand_names.append(brand)\n",
    "brand_names[0:4]"
   ]
  },
  {
   "cell_type": "code",
   "execution_count": 289,
   "id": "36aa98fa",
   "metadata": {},
   "outputs": [
    {
     "data": {
      "text/plain": [
       "33"
      ]
     },
     "execution_count": 289,
     "metadata": {},
     "output_type": "execute_result"
    }
   ],
   "source": [
    "#so lets extract all tags with product description.\n",
    "description_tags=driver.find_elements_by_xpath(\"//a[@class='IRpwTa']\")\n",
    "len(description_tags)"
   ]
  },
  {
   "cell_type": "code",
   "execution_count": 290,
   "id": "35bc63ea",
   "metadata": {},
   "outputs": [
    {
     "data": {
      "text/plain": [
       "['UV Protection Wayfarer Sunglasses (Free Size)',\n",
       " 'UV Protection Round Sunglasses (54)',\n",
       " 'Riding Glasses Wrap-around Sunglasses (Free Size)',\n",
       " 'UV Protection Aviator Sunglasses (54)']"
      ]
     },
     "execution_count": 290,
     "metadata": {},
     "output_type": "execute_result"
    }
   ],
   "source": [
    "# lets extract and append the product_description.\n",
    "for i in description_tags:\n",
    "    description=i.text\n",
    "    product_description.append(description)\n",
    "product_description[0:4]"
   ]
  },
  {
   "cell_type": "code",
   "execution_count": 291,
   "id": "7ea523e1",
   "metadata": {},
   "outputs": [
    {
     "data": {
      "text/plain": [
       "40"
      ]
     },
     "execution_count": 291,
     "metadata": {},
     "output_type": "execute_result"
    }
   ],
   "source": [
    "#so lets extract all the tags with price.\n",
    "price_tags=driver.find_elements_by_xpath(\"//div[@class='_30jeq3']\")\n",
    "len(price_tags)"
   ]
  },
  {
   "cell_type": "code",
   "execution_count": 292,
   "id": "99804c56",
   "metadata": {},
   "outputs": [
    {
     "data": {
      "text/plain": [
       "['₹1,598', '₹1,498', '₹649', '₹295']"
      ]
     },
     "execution_count": 292,
     "metadata": {},
     "output_type": "execute_result"
    }
   ],
   "source": [
    "# lets extract and append the price details.\n",
    "for i in price_tags:\n",
    "    pric=i.text\n",
    "    price.append(pric)\n",
    "price[0:4]"
   ]
  },
  {
   "cell_type": "code",
   "execution_count": 293,
   "id": "056a17fd",
   "metadata": {},
   "outputs": [],
   "source": [
    "#now lets scrap data in the next page.\n",
    "#for that we shall click on the next button.\n",
    "next_page=driver.find_element_by_xpath(\"/html/body/div[1]/div/div[3]/div[1]/div[2]/div[12]/div/div/nav/a[11]\")\n",
    "next_page.click()"
   ]
  },
  {
   "cell_type": "code",
   "execution_count": 294,
   "id": "644fccd6",
   "metadata": {},
   "outputs": [
    {
     "data": {
      "text/plain": [
       "40"
      ]
     },
     "execution_count": 294,
     "metadata": {},
     "output_type": "execute_result"
    }
   ],
   "source": [
    "#so lets extract all the tags with brand name in the second page.\n",
    "brand_tags=driver.find_elements_by_xpath(\"//div[@class='_2WkVRV']\")\n",
    "len(brand_tags)"
   ]
  },
  {
   "cell_type": "code",
   "execution_count": 295,
   "id": "f0f5478e",
   "metadata": {},
   "outputs": [
    {
     "data": {
      "text/plain": [
       "['HIPPON', 'PIRASO', 'Singco India', 'EYEWEARLABS']"
      ]
     },
     "execution_count": 295,
     "metadata": {},
     "output_type": "execute_result"
    }
   ],
   "source": [
    "# lets extract and append the brand_names in the second page.\n",
    "for i in brand_tags:\n",
    "    bran=i.text\n",
    "    brand_names.append(bran)\n",
    "brand_names[40:44]"
   ]
  },
  {
   "cell_type": "code",
   "execution_count": 296,
   "id": "7ef366e6",
   "metadata": {},
   "outputs": [
    {
     "data": {
      "text/plain": [
       "37"
      ]
     },
     "execution_count": 296,
     "metadata": {},
     "output_type": "execute_result"
    }
   ],
   "source": [
    "#so lets extract all tags with product description in second page.\n",
    "description_tags=driver.find_elements_by_xpath(\"//a[@class='IRpwTa']\")\n",
    "len(description_tags)"
   ]
  },
  {
   "cell_type": "code",
   "execution_count": 297,
   "id": "8779721d",
   "metadata": {},
   "outputs": [
    {
     "data": {
      "text/plain": [
       "['UV Protection Rectangular Sunglasses (Free Size)',\n",
       " 'UV Protection Round Sunglasses (53)',\n",
       " 'UV Protection, Gradient Round, Cat-eye Sunglasses (60)',\n",
       " 'UV Protection Round Sunglasses (Free Size)']"
      ]
     },
     "execution_count": 297,
     "metadata": {},
     "output_type": "execute_result"
    }
   ],
   "source": [
    "# lets extract and append the product_description in second page.\n",
    "for i in description_tags:\n",
    "    description=i.text\n",
    "    product_description.append(description)\n",
    "product_description[40:44]"
   ]
  },
  {
   "cell_type": "code",
   "execution_count": 298,
   "id": "779f76c8",
   "metadata": {},
   "outputs": [
    {
     "data": {
      "text/plain": [
       "40"
      ]
     },
     "execution_count": 298,
     "metadata": {},
     "output_type": "execute_result"
    }
   ],
   "source": [
    "#so lets extract all the tags with price in second page.\n",
    "price_tags=driver.find_elements_by_xpath(\"//div[@class='_30jeq3']\")\n",
    "len(price_tags)"
   ]
  },
  {
   "cell_type": "code",
   "execution_count": 299,
   "id": "8f92f467",
   "metadata": {},
   "outputs": [
    {
     "data": {
      "text/plain": [
       "['₹171', '₹199', '₹245', '₹1,598']"
      ]
     },
     "execution_count": 299,
     "metadata": {},
     "output_type": "execute_result"
    }
   ],
   "source": [
    "# lets extract and append the price details.\n",
    "for i in price_tags:\n",
    "    pric=i.text\n",
    "    price.append(pric)\n",
    "price[40:44]"
   ]
  },
  {
   "cell_type": "code",
   "execution_count": 300,
   "id": "fe83bda6",
   "metadata": {},
   "outputs": [],
   "source": [
    "#lets scrap the data in third page.\n",
    "next_pag=driver.find_element_by_xpath(\"/html/body/div[1]/div/div[3]/div[1]/div[2]/div[12]/div/div/nav/a[12]/span\")\n",
    "next_pag.click()"
   ]
  },
  {
   "cell_type": "code",
   "execution_count": 301,
   "id": "4b30927c",
   "metadata": {},
   "outputs": [
    {
     "data": {
      "text/plain": [
       "40"
      ]
     },
     "execution_count": 301,
     "metadata": {},
     "output_type": "execute_result"
    }
   ],
   "source": [
    "#so lets extract all the tags with brand name in the third page.\n",
    "brand_tags=driver.find_elements_by_xpath(\"//div[@class='_2WkVRV']\")\n",
    "len(brand_tags)"
   ]
  },
  {
   "cell_type": "code",
   "execution_count": 302,
   "id": "b451eef4",
   "metadata": {},
   "outputs": [
    {
     "data": {
      "text/plain": [
       "120"
      ]
     },
     "execution_count": 302,
     "metadata": {},
     "output_type": "execute_result"
    }
   ],
   "source": [
    "# lets extract and append the brand_names in the third page.\n",
    "for i in brand_tags:\n",
    "    bran=i.text\n",
    "    brand_names.append(bran)\n",
    "len(brand_names)"
   ]
  },
  {
   "cell_type": "code",
   "execution_count": 304,
   "id": "7b45e27b",
   "metadata": {},
   "outputs": [
    {
     "data": {
      "text/plain": [
       "32"
      ]
     },
     "execution_count": 304,
     "metadata": {},
     "output_type": "execute_result"
    }
   ],
   "source": [
    "#so lets extract all tags with product description in third page.\n",
    "description_tags=driver.find_elements_by_xpath(\"//a[@class='IRpwTa']\")\n",
    "len(description_tags)"
   ]
  },
  {
   "cell_type": "code",
   "execution_count": 305,
   "id": "b8566205",
   "metadata": {},
   "outputs": [
    {
     "data": {
      "text/plain": [
       "102"
      ]
     },
     "execution_count": 305,
     "metadata": {},
     "output_type": "execute_result"
    }
   ],
   "source": [
    "# lets extract and append the product_description in third page.\n",
    "for i in description_tags:\n",
    "    description=i.text\n",
    "    product_description.append(description)\n",
    "len(product_description)"
   ]
  },
  {
   "cell_type": "code",
   "execution_count": 306,
   "id": "a7d9b3b2",
   "metadata": {},
   "outputs": [
    {
     "data": {
      "text/plain": [
       "40"
      ]
     },
     "execution_count": 306,
     "metadata": {},
     "output_type": "execute_result"
    }
   ],
   "source": [
    "#so lets extract all the tags with price in third page.\n",
    "price_tags=driver.find_elements_by_xpath(\"//div[@class='_30jeq3']\")\n",
    "len(price_tags)"
   ]
  },
  {
   "cell_type": "code",
   "execution_count": 307,
   "id": "51ad73c0",
   "metadata": {},
   "outputs": [
    {
     "data": {
      "text/plain": [
       "120"
      ]
     },
     "execution_count": 307,
     "metadata": {},
     "output_type": "execute_result"
    }
   ],
   "source": [
    "# lets extract and append the price details.\n",
    "for i in price_tags:\n",
    "    pric=i.text\n",
    "    price.append(pric)\n",
    "len(price)"
   ]
  },
  {
   "cell_type": "code",
   "execution_count": 309,
   "id": "3b085468",
   "metadata": {},
   "outputs": [
    {
     "data": {
      "text/html": [
       "<div>\n",
       "<style scoped>\n",
       "    .dataframe tbody tr th:only-of-type {\n",
       "        vertical-align: middle;\n",
       "    }\n",
       "\n",
       "    .dataframe tbody tr th {\n",
       "        vertical-align: top;\n",
       "    }\n",
       "\n",
       "    .dataframe thead th {\n",
       "        text-align: right;\n",
       "    }\n",
       "</style>\n",
       "<table border=\"1\" class=\"dataframe\">\n",
       "  <thead>\n",
       "    <tr style=\"text-align: right;\">\n",
       "      <th></th>\n",
       "      <th>Brand</th>\n",
       "      <th>Description</th>\n",
       "      <th>Price</th>\n",
       "    </tr>\n",
       "  </thead>\n",
       "  <tbody>\n",
       "    <tr>\n",
       "      <th>0</th>\n",
       "      <td>EYEWEARLABS</td>\n",
       "      <td>UV Protection Wayfarer Sunglasses (Free Size)</td>\n",
       "      <td>₹1,598</td>\n",
       "    </tr>\n",
       "    <tr>\n",
       "      <th>1</th>\n",
       "      <td>EYEWEARLABS</td>\n",
       "      <td>UV Protection Round Sunglasses (54)</td>\n",
       "      <td>₹1,498</td>\n",
       "    </tr>\n",
       "    <tr>\n",
       "      <th>2</th>\n",
       "      <td>Fastrack</td>\n",
       "      <td>Riding Glasses Wrap-around Sunglasses (Free Size)</td>\n",
       "      <td>₹649</td>\n",
       "    </tr>\n",
       "    <tr>\n",
       "      <th>3</th>\n",
       "      <td>Elligator</td>\n",
       "      <td>UV Protection Aviator Sunglasses (54)</td>\n",
       "      <td>₹295</td>\n",
       "    </tr>\n",
       "    <tr>\n",
       "      <th>4</th>\n",
       "      <td>Lee Topper</td>\n",
       "      <td>UV Protection Rectangular Sunglasses (Free Size)</td>\n",
       "      <td>₹299</td>\n",
       "    </tr>\n",
       "    <tr>\n",
       "      <th>...</th>\n",
       "      <td>...</td>\n",
       "      <td>...</td>\n",
       "      <td>...</td>\n",
       "    </tr>\n",
       "    <tr>\n",
       "      <th>95</th>\n",
       "      <td>EYEWEARLABS</td>\n",
       "      <td>Gradient, Toughened Glass Lens, UV Protection ...</td>\n",
       "      <td>₹1,598</td>\n",
       "    </tr>\n",
       "    <tr>\n",
       "      <th>96</th>\n",
       "      <td>VINCENT CHASE</td>\n",
       "      <td>UV Protection, Gradient Rectangular Sunglasses...</td>\n",
       "      <td>₹899</td>\n",
       "    </tr>\n",
       "    <tr>\n",
       "      <th>97</th>\n",
       "      <td>kingsunglasses</td>\n",
       "      <td>UV Protection, Gradient Retro Square Sunglasse...</td>\n",
       "      <td>₹269</td>\n",
       "    </tr>\n",
       "    <tr>\n",
       "      <th>98</th>\n",
       "      <td>Roadster</td>\n",
       "      <td>UV Protection, Mirrored Round Sunglasses (Free...</td>\n",
       "      <td>₹649</td>\n",
       "    </tr>\n",
       "    <tr>\n",
       "      <th>99</th>\n",
       "      <td>EYEWEARLABS</td>\n",
       "      <td>UV Protection, Mirrored Retro Square Sunglasse...</td>\n",
       "      <td>₹1,598</td>\n",
       "    </tr>\n",
       "  </tbody>\n",
       "</table>\n",
       "<p>100 rows × 3 columns</p>\n",
       "</div>"
      ],
      "text/plain": [
       "             Brand                                        Description   Price\n",
       "0      EYEWEARLABS      UV Protection Wayfarer Sunglasses (Free Size)  ₹1,598\n",
       "1      EYEWEARLABS                UV Protection Round Sunglasses (54)  ₹1,498\n",
       "2         Fastrack  Riding Glasses Wrap-around Sunglasses (Free Size)    ₹649\n",
       "3        Elligator              UV Protection Aviator Sunglasses (54)    ₹295\n",
       "4       Lee Topper   UV Protection Rectangular Sunglasses (Free Size)    ₹299\n",
       "..             ...                                                ...     ...\n",
       "95     EYEWEARLABS  Gradient, Toughened Glass Lens, UV Protection ...  ₹1,598\n",
       "96   VINCENT CHASE  UV Protection, Gradient Rectangular Sunglasses...    ₹899\n",
       "97  kingsunglasses  UV Protection, Gradient Retro Square Sunglasse...    ₹269\n",
       "98        Roadster  UV Protection, Mirrored Round Sunglasses (Free...    ₹649\n",
       "99     EYEWEARLABS  UV Protection, Mirrored Retro Square Sunglasse...  ₹1,598\n",
       "\n",
       "[100 rows x 3 columns]"
      ]
     },
     "execution_count": 309,
     "metadata": {},
     "output_type": "execute_result"
    }
   ],
   "source": [
    "#lets make the dataframe.\n",
    "sunglass=pd.DataFrame({})\n",
    "sunglass['Brand']=brand_names[0:100]\n",
    "sunglass['Description']=product_description[0:100]\n",
    "sunglass['Price']=price[0:100]\n",
    "sunglass"
   ]
  },
  {
   "cell_type": "code",
   "execution_count": null,
   "id": "63307ad2",
   "metadata": {},
   "outputs": [],
   "source": []
  },
  {
   "cell_type": "code",
   "execution_count": null,
   "id": "5e6d6209",
   "metadata": {},
   "outputs": [],
   "source": []
  },
  {
   "cell_type": "markdown",
   "id": "b4210c1a",
   "metadata": {},
   "source": [
    "# 5"
   ]
  },
  {
   "cell_type": "markdown",
   "id": "45a84cde",
   "metadata": {},
   "source": [
    "Q5: Scrape 100 reviews data from flipkart.com for iphone11 phone. You have to go the link:\n",
    "https://www.flipkart.com/apple-iphone-11-black-64-gb-includes-earpods-poweradapter/p/itm0f37c2240b217?pid=MOBFKCTSVZAXUHGR&lid=LSTMOBFKC\n",
    "TSVZAXUHGREPBFGI&marketplace.\n",
    "\n",
    "When you will open the above link you will reach to the below shown webpage .\n",
    "\n",
    "As shown in the above page you have to scrape the tick marked attributes.These are:\n",
    "1. Rating\n",
    "2. Review summary\n",
    "3. Full review\n",
    "4. You have to scrape this data for first 100 reviews.\n",
    "Note: All the steps required during scraping should be done through code only and not manually."
   ]
  },
  {
   "cell_type": "code",
   "execution_count": 856,
   "id": "9d1118e6",
   "metadata": {},
   "outputs": [],
   "source": [
    "#let me first import required libraries.\n",
    "import selenium\n",
    "import pandas as pd\n",
    "from selenium import webdriver\n",
    "import warnings\n",
    "warnings.filterwarnings(\"ignore\")\n",
    "import time"
   ]
  },
  {
   "cell_type": "code",
   "execution_count": 857,
   "id": "c29191d8",
   "metadata": {},
   "outputs": [],
   "source": [
    "#lets first connect to the webdriver.\n",
    "driver=webdriver.Chrome(r\"C:\\Users\\USER\\Downloads\\chromedriver_win32\\chromedriver.exe\")"
   ]
  },
  {
   "cell_type": "code",
   "execution_count": 858,
   "id": "aed8d564",
   "metadata": {},
   "outputs": [],
   "source": [
    "driver=webdriver.Chrome(\"chromedriver.exe\")\n",
    "time.sleep(2)"
   ]
  },
  {
   "cell_type": "code",
   "execution_count": 859,
   "id": "0952900f",
   "metadata": {},
   "outputs": [],
   "source": [
    "driver.get('https://www.flipkart.com/apple-iphone-11-black-64-gb-includes-earpods-power-adapter/product-reviews/itm0f37c2240b217?pid=MOBFKCTSVZAXUHGR&lid=LSTMOBFKCTSVZAXUHGR3IXQLM&marketplace=FLIPKART')"
   ]
  },
  {
   "cell_type": "code",
   "execution_count": 860,
   "id": "d2064ac9",
   "metadata": {},
   "outputs": [],
   "source": [
    "#let me make empty lists for storing the scraped data.\n",
    "ratings=[]\n",
    "review_summary=[]\n",
    "full_review=[]"
   ]
  },
  {
   "cell_type": "code",
   "execution_count": 861,
   "id": "5ef33007",
   "metadata": {},
   "outputs": [
    {
     "data": {
      "text/plain": [
       "10"
      ]
     },
     "execution_count": 861,
     "metadata": {},
     "output_type": "execute_result"
    }
   ],
   "source": [
    "#lets scrap the rating.\n",
    "rating_tags=driver.find_elements_by_xpath(\"//div[@class='_3LWZlK _1BLPMq']\")\n",
    "#now lets extract the text\n",
    "for i in rating_tags:\n",
    "    rating=i.text\n",
    "    ratings.append(rating)\n",
    "len(ratings)"
   ]
  },
  {
   "cell_type": "code",
   "execution_count": 862,
   "id": "8b87afed",
   "metadata": {},
   "outputs": [
    {
     "data": {
      "text/plain": [
       "10"
      ]
     },
     "execution_count": 862,
     "metadata": {},
     "output_type": "execute_result"
    }
   ],
   "source": [
    "#lets scrap review summary.\n",
    "summary_tags=driver.find_elements_by_xpath(\"//p[@class='_2-N8zT']\")\n",
    "for i in summary_tags:\n",
    "    x=i.text\n",
    "    review_summary.append(x)\n",
    "len(review_summary)"
   ]
  },
  {
   "cell_type": "code",
   "execution_count": 863,
   "id": "fe161ffe",
   "metadata": {},
   "outputs": [
    {
     "data": {
      "text/plain": [
       "10"
      ]
     },
     "execution_count": 863,
     "metadata": {},
     "output_type": "execute_result"
    }
   ],
   "source": [
    "#lets scrap full review.\n",
    "review_tags=driver.find_elements_by_xpath(\"//div[@class='t-ZTKy']\")\n",
    "for i in review_tags:\n",
    "    x=i.text\n",
    "    full_review.append(x)\n",
    "len(full_review)"
   ]
  },
  {
   "cell_type": "code",
   "execution_count": 864,
   "id": "25bc3557",
   "metadata": {},
   "outputs": [],
   "source": [
    "#lets go to 2nd page.\n",
    "next_button=driver.find_element_by_xpath(\"/html/body/div/div/div[3]/div/div/div[2]/div[13]/div/div/nav/a[11]/span\")\n",
    "next_button.click()"
   ]
  },
  {
   "cell_type": "code",
   "execution_count": 865,
   "id": "430e4c13",
   "metadata": {},
   "outputs": [
    {
     "data": {
      "text/plain": [
       "20"
      ]
     },
     "execution_count": 865,
     "metadata": {},
     "output_type": "execute_result"
    }
   ],
   "source": [
    "#lets scrap ratings from 2nd page.\n",
    "rating_tags=driver.find_elements_by_xpath(\"//div[@class='_3LWZlK _1BLPMq']\")\n",
    "len(rating_tags)\n",
    "for i in rating_tags:\n",
    "    rating=i.text\n",
    "    ratings.append(rating)\n",
    "next_button=driver.find_element_by_xpath(\"/html/body/div[1]/div/div[3]/div/div/div[2]/div[13]/div/div/nav/a[12]\")\n",
    "next_button.click()\n",
    "len(ratings)"
   ]
  },
  {
   "cell_type": "code",
   "execution_count": 866,
   "id": "0cc2502c",
   "metadata": {},
   "outputs": [
    {
     "data": {
      "text/plain": [
       "20"
      ]
     },
     "execution_count": 866,
     "metadata": {},
     "output_type": "execute_result"
    }
   ],
   "source": [
    "#lets scrap review summary from second page.\n",
    "summary_tags=driver.find_elements_by_xpath(\"//p[@class='_2-N8zT']\")\n",
    "for i in summary_tags:\n",
    "    x=i.text\n",
    "    review_summary.append(x)\n",
    "len(review_summary)"
   ]
  },
  {
   "cell_type": "code",
   "execution_count": 867,
   "id": "395bb02a",
   "metadata": {},
   "outputs": [
    {
     "data": {
      "text/plain": [
       "20"
      ]
     },
     "execution_count": 867,
     "metadata": {},
     "output_type": "execute_result"
    }
   ],
   "source": [
    "#lets scrap full review from 2nd page.\n",
    "review_tags=driver.find_elements_by_xpath(\"//div[@class='t-ZTKy']\")\n",
    "for i in review_tags:\n",
    "    x=i.text\n",
    "    full_review.append(x)\n",
    "len(full_review)"
   ]
  },
  {
   "cell_type": "code",
   "execution_count": 868,
   "id": "722b4b22",
   "metadata": {},
   "outputs": [],
   "source": [
    "#lets go to third page\n",
    "next_button=driver.find_element_by_xpath(\"/html/body/div[1]/div/div[3]/div/div/div[2]/div[13]/div/div/nav/a[12]\")\n",
    "next_button.click()"
   ]
  },
  {
   "cell_type": "code",
   "execution_count": 869,
   "id": "cb03a637",
   "metadata": {},
   "outputs": [
    {
     "data": {
      "text/plain": [
       "30"
      ]
     },
     "execution_count": 869,
     "metadata": {},
     "output_type": "execute_result"
    }
   ],
   "source": [
    "#lets scrap rating from 3rd page.\n",
    "rating_tags=driver.find_elements_by_xpath(\"//div[@class='_3LWZlK _1BLPMq']\")\n",
    "len(rating_tags)\n",
    "for i in rating_tags:\n",
    "    rating=i.text\n",
    "    ratings.append(rating)\n",
    "len(ratings)"
   ]
  },
  {
   "cell_type": "code",
   "execution_count": 870,
   "id": "438c0dfe",
   "metadata": {},
   "outputs": [
    {
     "data": {
      "text/plain": [
       "30"
      ]
     },
     "execution_count": 870,
     "metadata": {},
     "output_type": "execute_result"
    }
   ],
   "source": [
    "#lets scrap review summary from third page.\n",
    "summary_tags=driver.find_elements_by_xpath(\"//p[@class='_2-N8zT']\")\n",
    "for i in summary_tags:\n",
    "    x=i.text\n",
    "    review_summary.append(x)\n",
    "len(review_summary)"
   ]
  },
  {
   "cell_type": "code",
   "execution_count": 871,
   "id": "734bde98",
   "metadata": {},
   "outputs": [
    {
     "data": {
      "text/plain": [
       "30"
      ]
     },
     "execution_count": 871,
     "metadata": {},
     "output_type": "execute_result"
    }
   ],
   "source": [
    "#lets scrap full review from 3rd page.\n",
    "review_tags=driver.find_elements_by_xpath(\"//div[@class='t-ZTKy']\")\n",
    "for i in review_tags:\n",
    "    x=i.text\n",
    "    full_review.append(x)\n",
    "len(full_review)"
   ]
  },
  {
   "cell_type": "code",
   "execution_count": 872,
   "id": "7e374421",
   "metadata": {},
   "outputs": [],
   "source": [
    "#lets go to 4th page.\n",
    "next_button=driver.find_element_by_xpath(\"/html/body/div[1]/div/div[3]/div/div/div[2]/div[13]/div/div/nav/a[12]\")\n",
    "next_button.click()"
   ]
  },
  {
   "cell_type": "code",
   "execution_count": 873,
   "id": "bbb18108",
   "metadata": {},
   "outputs": [
    {
     "data": {
      "text/plain": [
       "40"
      ]
     },
     "execution_count": 873,
     "metadata": {},
     "output_type": "execute_result"
    }
   ],
   "source": [
    "#lets scrap rating from 4th page.\n",
    "rating_tags=driver.find_elements_by_xpath(\"//div[@class='_3LWZlK _1BLPMq']\")\n",
    "len(rating_tags)\n",
    "for i in rating_tags:\n",
    "    rating=i.text\n",
    "    ratings.append(rating)\n",
    "len(ratings)"
   ]
  },
  {
   "cell_type": "code",
   "execution_count": 874,
   "id": "8f483e8b",
   "metadata": {},
   "outputs": [
    {
     "data": {
      "text/plain": [
       "40"
      ]
     },
     "execution_count": 874,
     "metadata": {},
     "output_type": "execute_result"
    }
   ],
   "source": [
    "#lets scrap review summary from 4th page.\n",
    "summary_tags=driver.find_elements_by_xpath(\"//p[@class='_2-N8zT']\")\n",
    "for i in summary_tags:\n",
    "    x=i.text\n",
    "    review_summary.append(x)\n",
    "len(review_summary)"
   ]
  },
  {
   "cell_type": "code",
   "execution_count": 875,
   "id": "aec8a440",
   "metadata": {},
   "outputs": [
    {
     "data": {
      "text/plain": [
       "40"
      ]
     },
     "execution_count": 875,
     "metadata": {},
     "output_type": "execute_result"
    }
   ],
   "source": [
    "#lets scrap full review from 4nd page.\n",
    "review_tags=driver.find_elements_by_xpath(\"//div[@class='t-ZTKy']\")\n",
    "for i in review_tags:\n",
    "    x=i.text\n",
    "    full_review.append(x)\n",
    "len(full_review)"
   ]
  },
  {
   "cell_type": "code",
   "execution_count": 876,
   "id": "4bf60b4a",
   "metadata": {},
   "outputs": [],
   "source": [
    "#lets go to 5th page.\n",
    "next_button=driver.find_element_by_xpath(\"/html/body/div[1]/div/div[3]/div/div/div[2]/div[13]/div/div/nav/a[12]\")\n",
    "next_button.click()"
   ]
  },
  {
   "cell_type": "code",
   "execution_count": 877,
   "id": "93e1f6ee",
   "metadata": {},
   "outputs": [
    {
     "data": {
      "text/plain": [
       "50"
      ]
     },
     "execution_count": 877,
     "metadata": {},
     "output_type": "execute_result"
    }
   ],
   "source": [
    "#lets scrap rating from 5th page.\n",
    "rating_tags=driver.find_elements_by_xpath(\"//div[@class='_3LWZlK _1BLPMq']\")\n",
    "len(rating_tags)\n",
    "for i in rating_tags:\n",
    "    rating=i.text\n",
    "    ratings.append(rating)\n",
    "len(ratings)"
   ]
  },
  {
   "cell_type": "code",
   "execution_count": 878,
   "id": "67f5b3ad",
   "metadata": {},
   "outputs": [
    {
     "data": {
      "text/plain": [
       "50"
      ]
     },
     "execution_count": 878,
     "metadata": {},
     "output_type": "execute_result"
    }
   ],
   "source": [
    "#lets scrap review summary from 5th page.\n",
    "summary_tags=driver.find_elements_by_xpath(\"//p[@class='_2-N8zT']\")\n",
    "for i in summary_tags:\n",
    "    x=i.text\n",
    "    review_summary.append(x)\n",
    "len(review_summary)"
   ]
  },
  {
   "cell_type": "code",
   "execution_count": 879,
   "id": "b82be027",
   "metadata": {},
   "outputs": [
    {
     "data": {
      "text/plain": [
       "50"
      ]
     },
     "execution_count": 879,
     "metadata": {},
     "output_type": "execute_result"
    }
   ],
   "source": [
    "#lets scrap full review from 5th page.\n",
    "review_tags=driver.find_elements_by_xpath(\"//div[@class='t-ZTKy']\")\n",
    "for i in review_tags:\n",
    "    x=i.text\n",
    "    full_review.append(x)\n",
    "len(full_review)"
   ]
  },
  {
   "cell_type": "code",
   "execution_count": 880,
   "id": "79ecc27a",
   "metadata": {},
   "outputs": [],
   "source": [
    "#lets go to 6th page. \n",
    "next_button=driver.find_element_by_xpath(\"/html/body/div[1]/div/div[3]/div/div/div[2]/div[13]/div/div/nav/a[12]\")\n",
    "next_button.click()"
   ]
  },
  {
   "cell_type": "code",
   "execution_count": 881,
   "id": "e0f74b4b",
   "metadata": {},
   "outputs": [
    {
     "data": {
      "text/plain": [
       "59"
      ]
     },
     "execution_count": 881,
     "metadata": {},
     "output_type": "execute_result"
    }
   ],
   "source": [
    "#lets scrap rating from 6th page.\n",
    "rating_tags=driver.find_elements_by_xpath(\"//div[@class='_3LWZlK _1BLPMq']\")\n",
    "len(rating_tags)\n",
    "for i in rating_tags:\n",
    "    rating=i.text\n",
    "    ratings.append(rating)\n",
    "len(ratings)"
   ]
  },
  {
   "cell_type": "code",
   "execution_count": 882,
   "id": "fd55fb6a",
   "metadata": {},
   "outputs": [
    {
     "data": {
      "text/plain": [
       "60"
      ]
     },
     "execution_count": 882,
     "metadata": {},
     "output_type": "execute_result"
    }
   ],
   "source": [
    "#lets scrap review summary from 6th page.\n",
    "summary_tags=driver.find_elements_by_xpath(\"//p[@class='_2-N8zT']\")\n",
    "for i in summary_tags:\n",
    "    x=i.text\n",
    "    review_summary.append(x)\n",
    "len(review_summary)"
   ]
  },
  {
   "cell_type": "code",
   "execution_count": 883,
   "id": "b1fd76af",
   "metadata": {},
   "outputs": [
    {
     "data": {
      "text/plain": [
       "60"
      ]
     },
     "execution_count": 883,
     "metadata": {},
     "output_type": "execute_result"
    }
   ],
   "source": [
    "#lets scrap full review from 6th page.\n",
    "review_tags=driver.find_elements_by_xpath(\"//div[@class='t-ZTKy']\")\n",
    "for i in review_tags:\n",
    "    x=i.text\n",
    "    full_review.append(x)\n",
    "len(full_review)"
   ]
  },
  {
   "cell_type": "code",
   "execution_count": 884,
   "id": "608b4c44",
   "metadata": {},
   "outputs": [],
   "source": [
    "#lets go to 7th page.\n",
    "next_button=driver.find_element_by_xpath(\"/html/body/div[1]/div/div[3]/div/div/div[2]/div[13]/div/div/nav/a[12]\")\n",
    "next_button.click()"
   ]
  },
  {
   "cell_type": "code",
   "execution_count": 885,
   "id": "09b88f68",
   "metadata": {},
   "outputs": [
    {
     "data": {
      "text/plain": [
       "68"
      ]
     },
     "execution_count": 885,
     "metadata": {},
     "output_type": "execute_result"
    }
   ],
   "source": [
    "#lets scrap rating from 7th page.\n",
    "rating_tags=driver.find_elements_by_xpath(\"//div[@class='_3LWZlK _1BLPMq']\")\n",
    "len(rating_tags)\n",
    "for i in rating_tags:\n",
    "    rating=i.text\n",
    "    ratings.append(rating)\n",
    "len(ratings)"
   ]
  },
  {
   "cell_type": "code",
   "execution_count": 886,
   "id": "b89dfaa8",
   "metadata": {},
   "outputs": [
    {
     "data": {
      "text/plain": [
       "70"
      ]
     },
     "execution_count": 886,
     "metadata": {},
     "output_type": "execute_result"
    }
   ],
   "source": [
    "#lets scrap review summary from 7th page.\n",
    "summary_tags=driver.find_elements_by_xpath(\"//p[@class='_2-N8zT']\")\n",
    "for i in summary_tags:\n",
    "    x=i.text\n",
    "    review_summary.append(x)\n",
    "len(review_summary)"
   ]
  },
  {
   "cell_type": "code",
   "execution_count": 887,
   "id": "4930b0d8",
   "metadata": {},
   "outputs": [
    {
     "data": {
      "text/plain": [
       "70"
      ]
     },
     "execution_count": 887,
     "metadata": {},
     "output_type": "execute_result"
    }
   ],
   "source": [
    "#lets scrap full review from 7th page.\n",
    "review_tags=driver.find_elements_by_xpath(\"//div[@class='t-ZTKy']\")\n",
    "for i in review_tags:\n",
    "    x=i.text\n",
    "    full_review.append(x)\n",
    "len(full_review)"
   ]
  },
  {
   "cell_type": "code",
   "execution_count": 888,
   "id": "1a09648e",
   "metadata": {},
   "outputs": [],
   "source": [
    "#lets go to 8th page.\n",
    "next_button=driver.find_element_by_xpath(\"/html/body/div[1]/div/div[3]/div/div/div[2]/div[13]/div/div/nav/a[12]\")\n",
    "next_button.click()"
   ]
  },
  {
   "cell_type": "code",
   "execution_count": 889,
   "id": "e1013e8c",
   "metadata": {},
   "outputs": [
    {
     "data": {
      "text/plain": [
       "78"
      ]
     },
     "execution_count": 889,
     "metadata": {},
     "output_type": "execute_result"
    }
   ],
   "source": [
    "#lets scrap rating from 8th page.\n",
    "rating_tags=driver.find_elements_by_xpath(\"//div[@class='_3LWZlK _1BLPMq']\")\n",
    "len(rating_tags)\n",
    "for i in rating_tags:\n",
    "    rating=i.text\n",
    "    ratings.append(rating)\n",
    "len(ratings)"
   ]
  },
  {
   "cell_type": "code",
   "execution_count": 890,
   "id": "d31c45de",
   "metadata": {},
   "outputs": [
    {
     "data": {
      "text/plain": [
       "80"
      ]
     },
     "execution_count": 890,
     "metadata": {},
     "output_type": "execute_result"
    }
   ],
   "source": [
    "#lets scrap review summary from 8th page.\n",
    "summary_tags=driver.find_elements_by_xpath(\"//p[@class='_2-N8zT']\")\n",
    "for i in summary_tags:\n",
    "    x=i.text\n",
    "    review_summary.append(x)\n",
    "len(review_summary)"
   ]
  },
  {
   "cell_type": "code",
   "execution_count": 891,
   "id": "1a95155c",
   "metadata": {},
   "outputs": [
    {
     "data": {
      "text/plain": [
       "80"
      ]
     },
     "execution_count": 891,
     "metadata": {},
     "output_type": "execute_result"
    }
   ],
   "source": [
    "#lets scrap full review from 8th page.\n",
    "review_tags=driver.find_elements_by_xpath(\"//div[@class='t-ZTKy']\")\n",
    "for i in review_tags:\n",
    "    x=i.text\n",
    "    full_review.append(x)\n",
    "len(full_review)"
   ]
  },
  {
   "cell_type": "code",
   "execution_count": 892,
   "id": "d047838b",
   "metadata": {},
   "outputs": [],
   "source": [
    "#lets go to 9th page.\n",
    "next_button=driver.find_element_by_xpath(\"/html/body/div[1]/div/div[3]/div/div/div[2]/div[13]/div/div/nav/a[12]\")\n",
    "next_button.click()"
   ]
  },
  {
   "cell_type": "code",
   "execution_count": 893,
   "id": "415b91cc",
   "metadata": {},
   "outputs": [
    {
     "data": {
      "text/plain": [
       "87"
      ]
     },
     "execution_count": 893,
     "metadata": {},
     "output_type": "execute_result"
    }
   ],
   "source": [
    "#lets scrap rating from 9th page\n",
    "rating_tags=driver.find_elements_by_xpath(\"//div[@class='_3LWZlK _1BLPMq']\")\n",
    "len(rating_tags)\n",
    "for i in rating_tags:\n",
    "    rating=i.text\n",
    "    ratings.append(rating)\n",
    "len(ratings)"
   ]
  },
  {
   "cell_type": "code",
   "execution_count": 894,
   "id": "a2e4b474",
   "metadata": {},
   "outputs": [
    {
     "data": {
      "text/plain": [
       "90"
      ]
     },
     "execution_count": 894,
     "metadata": {},
     "output_type": "execute_result"
    }
   ],
   "source": [
    "#lets scrap review summary from 9th page.\n",
    "summary_tags=driver.find_elements_by_xpath(\"//p[@class='_2-N8zT']\")\n",
    "for i in summary_tags:\n",
    "    x=i.text\n",
    "    review_summary.append(x)\n",
    "len(review_summary)"
   ]
  },
  {
   "cell_type": "code",
   "execution_count": 895,
   "id": "532d3a74",
   "metadata": {},
   "outputs": [
    {
     "data": {
      "text/plain": [
       "90"
      ]
     },
     "execution_count": 895,
     "metadata": {},
     "output_type": "execute_result"
    }
   ],
   "source": [
    "#lets scrap full review from 9th page.\n",
    "review_tags=driver.find_elements_by_xpath(\"//div[@class='t-ZTKy']\")\n",
    "for i in review_tags:\n",
    "    x=i.text\n",
    "    full_review.append(x)\n",
    "len(full_review)"
   ]
  },
  {
   "cell_type": "code",
   "execution_count": 896,
   "id": "6135b3b6",
   "metadata": {},
   "outputs": [],
   "source": [
    "#lets go to 10th page.\n",
    "next_button=driver.find_element_by_xpath(\"/html/body/div[1]/div/div[3]/div/div/div[2]/div[13]/div/div/nav/a[12]\")\n",
    "next_button.click()"
   ]
  },
  {
   "cell_type": "code",
   "execution_count": 897,
   "id": "e3e55706",
   "metadata": {},
   "outputs": [
    {
     "data": {
      "text/plain": [
       "97"
      ]
     },
     "execution_count": 897,
     "metadata": {},
     "output_type": "execute_result"
    }
   ],
   "source": [
    "#lets scrap rating from 10th page\n",
    "rating_tags=driver.find_elements_by_xpath(\"//div[@class='_3LWZlK _1BLPMq']\")\n",
    "len(rating_tags)\n",
    "for i in rating_tags:\n",
    "    rating=i.text\n",
    "    ratings.append(rating)\n",
    "len(ratings)"
   ]
  },
  {
   "cell_type": "code",
   "execution_count": 898,
   "id": "5289f7cc",
   "metadata": {},
   "outputs": [
    {
     "data": {
      "text/plain": [
       "100"
      ]
     },
     "execution_count": 898,
     "metadata": {},
     "output_type": "execute_result"
    }
   ],
   "source": [
    "#lets scrap review summary from 10th page.\n",
    "summary_tags=driver.find_elements_by_xpath(\"//p[@class='_2-N8zT']\")\n",
    "for i in summary_tags:\n",
    "    x=i.text\n",
    "    review_summary.append(x)\n",
    "len(review_summary)"
   ]
  },
  {
   "cell_type": "code",
   "execution_count": 899,
   "id": "8c4b1509",
   "metadata": {},
   "outputs": [
    {
     "data": {
      "text/plain": [
       "100"
      ]
     },
     "execution_count": 899,
     "metadata": {},
     "output_type": "execute_result"
    }
   ],
   "source": [
    "#lets scrap full review from 10th page.\n",
    "review_tags=driver.find_elements_by_xpath(\"//div[@class='t-ZTKy']\")\n",
    "for i in review_tags:\n",
    "    x=i.text\n",
    "    full_review.append(x)\n",
    "len(full_review)"
   ]
  },
  {
   "cell_type": "code",
   "execution_count": 900,
   "id": "3d252374",
   "metadata": {},
   "outputs": [],
   "source": [
    "#lets go to 11th page.\n",
    "next_button=driver.find_element_by_xpath(\"/html/body/div[1]/div/div[3]/div/div/div[2]/div[13]/div/div/nav/a[12]\")\n",
    "next_button.click()"
   ]
  },
  {
   "cell_type": "code",
   "execution_count": 901,
   "id": "b23902d1",
   "metadata": {},
   "outputs": [
    {
     "data": {
      "text/plain": [
       "100"
      ]
     },
     "execution_count": 901,
     "metadata": {},
     "output_type": "execute_result"
    }
   ],
   "source": [
    "#lets scrap rating from 11th page\n",
    "rating_tags=driver.find_elements_by_xpath(\"//div[@class='_3LWZlK _1BLPMq']\")\n",
    "len(rating_tags)\n",
    "for i in rating_tags:\n",
    "    rating=i.text\n",
    "    ratings.append(rating)\n",
    "ratings=ratings[0:100]\n",
    "len(ratings)"
   ]
  },
  {
   "cell_type": "code",
   "execution_count": 902,
   "id": "7139ab91",
   "metadata": {},
   "outputs": [
    {
     "data": {
      "text/plain": [
       "100"
      ]
     },
     "execution_count": 902,
     "metadata": {},
     "output_type": "execute_result"
    }
   ],
   "source": [
    "#lets scrap review summary from 11th page.\n",
    "summary_tags=driver.find_elements_by_xpath(\"//p[@class='_2-N8zT']\")\n",
    "for i in summary_tags:\n",
    "    x=i.text\n",
    "    review_summary.append(x)\n",
    "review_summary=review_summary[0:100]\n",
    "len(review_summary)"
   ]
  },
  {
   "cell_type": "code",
   "execution_count": 903,
   "id": "0135bd76",
   "metadata": {},
   "outputs": [
    {
     "data": {
      "text/plain": [
       "100"
      ]
     },
     "execution_count": 903,
     "metadata": {},
     "output_type": "execute_result"
    }
   ],
   "source": [
    "#lets scrap full review from 11th page.\n",
    "review_tags=driver.find_elements_by_xpath(\"//div[@class='t-ZTKy']\")\n",
    "for i in review_tags:\n",
    "    x=i.text\n",
    "    full_review.append(x)\n",
    "full_review=full_review[0:100]\n",
    "len(full_review)"
   ]
  },
  {
   "cell_type": "code",
   "execution_count": 904,
   "id": "64ca8d6d",
   "metadata": {},
   "outputs": [],
   "source": [
    "#lets create dataframe\n",
    "iphone=pd.DataFrame({})\n",
    "iphone['Rating']=ratings\n",
    "iphone['Review_summary']=review_summary\n",
    "iphone['Full_review']=full_review"
   ]
  },
  {
   "cell_type": "code",
   "execution_count": 905,
   "id": "47d41791",
   "metadata": {},
   "outputs": [
    {
     "data": {
      "text/html": [
       "<div>\n",
       "<style scoped>\n",
       "    .dataframe tbody tr th:only-of-type {\n",
       "        vertical-align: middle;\n",
       "    }\n",
       "\n",
       "    .dataframe tbody tr th {\n",
       "        vertical-align: top;\n",
       "    }\n",
       "\n",
       "    .dataframe thead th {\n",
       "        text-align: right;\n",
       "    }\n",
       "</style>\n",
       "<table border=\"1\" class=\"dataframe\">\n",
       "  <thead>\n",
       "    <tr style=\"text-align: right;\">\n",
       "      <th></th>\n",
       "      <th>Rating</th>\n",
       "      <th>Review_summary</th>\n",
       "      <th>Full_review</th>\n",
       "    </tr>\n",
       "  </thead>\n",
       "  <tbody>\n",
       "    <tr>\n",
       "      <th>0</th>\n",
       "      <td>5</td>\n",
       "      <td>Brilliant</td>\n",
       "      <td>The Best Phone for the Money\\n\\nThe iPhone 11 ...</td>\n",
       "    </tr>\n",
       "    <tr>\n",
       "      <th>1</th>\n",
       "      <td>5</td>\n",
       "      <td>Simply awesome</td>\n",
       "      <td>Really satisfied with the Product I received.....</td>\n",
       "    </tr>\n",
       "    <tr>\n",
       "      <th>2</th>\n",
       "      <td>5</td>\n",
       "      <td>Best in the market!</td>\n",
       "      <td>Great iPhone very snappy experience as apple k...</td>\n",
       "    </tr>\n",
       "    <tr>\n",
       "      <th>3</th>\n",
       "      <td>5</td>\n",
       "      <td>Perfect product!</td>\n",
       "      <td>Amazing phone with great cameras and better ba...</td>\n",
       "    </tr>\n",
       "    <tr>\n",
       "      <th>4</th>\n",
       "      <td>5</td>\n",
       "      <td>Fabulous!</td>\n",
       "      <td>This is my first iOS phone. I am very happy wi...</td>\n",
       "    </tr>\n",
       "    <tr>\n",
       "      <th>...</th>\n",
       "      <td>...</td>\n",
       "      <td>...</td>\n",
       "      <td>...</td>\n",
       "    </tr>\n",
       "    <tr>\n",
       "      <th>95</th>\n",
       "      <td>5</td>\n",
       "      <td>Terrific purchase</td>\n",
       "      <td>finally an iPhone with very nice battery backu...</td>\n",
       "    </tr>\n",
       "    <tr>\n",
       "      <th>96</th>\n",
       "      <td>5</td>\n",
       "      <td>Good quality product</td>\n",
       "      <td>I'm switching this phone to oppo reno 10x zoom...</td>\n",
       "    </tr>\n",
       "    <tr>\n",
       "      <th>97</th>\n",
       "      <td>5</td>\n",
       "      <td>Terrific</td>\n",
       "      <td>Simply Awesome\\n\\nI have upgraded from iPhone ...</td>\n",
       "    </tr>\n",
       "    <tr>\n",
       "      <th>98</th>\n",
       "      <td>4</td>\n",
       "      <td>Best in the market!</td>\n",
       "      <td>Damn this phone is a blast . Upgraded from and...</td>\n",
       "    </tr>\n",
       "    <tr>\n",
       "      <th>99</th>\n",
       "      <td>5</td>\n",
       "      <td>Perfect product!</td>\n",
       "      <td>Worth the money’ starting first from its perfo...</td>\n",
       "    </tr>\n",
       "  </tbody>\n",
       "</table>\n",
       "<p>100 rows × 3 columns</p>\n",
       "</div>"
      ],
      "text/plain": [
       "   Rating        Review_summary  \\\n",
       "0       5             Brilliant   \n",
       "1       5        Simply awesome   \n",
       "2       5   Best in the market!   \n",
       "3       5      Perfect product!   \n",
       "4       5             Fabulous!   \n",
       "..    ...                   ...   \n",
       "95      5     Terrific purchase   \n",
       "96      5  Good quality product   \n",
       "97      5              Terrific   \n",
       "98      4   Best in the market!   \n",
       "99      5      Perfect product!   \n",
       "\n",
       "                                          Full_review  \n",
       "0   The Best Phone for the Money\\n\\nThe iPhone 11 ...  \n",
       "1   Really satisfied with the Product I received.....  \n",
       "2   Great iPhone very snappy experience as apple k...  \n",
       "3   Amazing phone with great cameras and better ba...  \n",
       "4   This is my first iOS phone. I am very happy wi...  \n",
       "..                                                ...  \n",
       "95  finally an iPhone with very nice battery backu...  \n",
       "96  I'm switching this phone to oppo reno 10x zoom...  \n",
       "97  Simply Awesome\\n\\nI have upgraded from iPhone ...  \n",
       "98  Damn this phone is a blast . Upgraded from and...  \n",
       "99  Worth the money’ starting first from its perfo...  \n",
       "\n",
       "[100 rows x 3 columns]"
      ]
     },
     "execution_count": 905,
     "metadata": {},
     "output_type": "execute_result"
    }
   ],
   "source": [
    "iphone"
   ]
  },
  {
   "cell_type": "code",
   "execution_count": null,
   "id": "55988f1c",
   "metadata": {},
   "outputs": [],
   "source": []
  },
  {
   "cell_type": "code",
   "execution_count": null,
   "id": "f04507d8",
   "metadata": {},
   "outputs": [],
   "source": []
  },
  {
   "cell_type": "markdown",
   "id": "29ba4593",
   "metadata": {},
   "source": [
    "# 6"
   ]
  },
  {
   "cell_type": "markdown",
   "id": "6cf8e9fa",
   "metadata": {},
   "source": [
    "Q6: Scrape data for first 100 sneakers you find when you visit flipkart.com andsearch for “sneakers” in the\n",
    "search field.\n",
    "You have to scrape 4 attributes of each sneaker:\n",
    "1. Brand\n",
    "2. Product Description\n",
    "3. Price\n",
    "As shown in the below image, you have to scrape the tick marked attributes.\n"
   ]
  },
  {
   "cell_type": "code",
   "execution_count": 934,
   "id": "4debfaf1",
   "metadata": {},
   "outputs": [],
   "source": [
    "#lets import required libraries.\n",
    "import selenium\n",
    "import pandas as pd\n",
    "from selenium import webdriver\n",
    "import warnings\n",
    "warnings.filterwarnings(\"ignore\")\n",
    "import time"
   ]
  },
  {
   "cell_type": "code",
   "execution_count": 935,
   "id": "250e85be",
   "metadata": {},
   "outputs": [],
   "source": [
    "#lets first connect to the web driver \n",
    "driver=webdriver.Chrome(r\"C:\\Users\\USER\\Downloads\\chromedriver_win32\\chromedriver.exe\")"
   ]
  },
  {
   "cell_type": "code",
   "execution_count": 936,
   "id": "beb4ebb4",
   "metadata": {},
   "outputs": [],
   "source": [
    "driver=webdriver.Chrome(\"chromedriver.exe\")\n",
    "time.sleep(2)"
   ]
  },
  {
   "cell_type": "code",
   "execution_count": 937,
   "id": "57eaa28a",
   "metadata": {},
   "outputs": [],
   "source": [
    "driver.get(\"https://www.flipkart.com/\")"
   ]
  },
  {
   "cell_type": "code",
   "execution_count": 938,
   "id": "afe67701",
   "metadata": {},
   "outputs": [],
   "source": [
    "#lets close the pop up window.\n",
    "popup=driver.find_element_by_xpath(\"/html/body/div[2]/div/div/button\")\n",
    "popup.click()"
   ]
  },
  {
   "cell_type": "code",
   "execution_count": 939,
   "id": "04da5add",
   "metadata": {},
   "outputs": [],
   "source": [
    "#lets enter sneakers in enter field.\n",
    "search_field=driver.find_element_by_class_name(\"_3704LK\")\n",
    "search_field.send_keys(\"sneakers\")"
   ]
  },
  {
   "cell_type": "code",
   "execution_count": 940,
   "id": "737afe44",
   "metadata": {},
   "outputs": [],
   "source": [
    "#lets click the search button.\n",
    "search_button=driver.find_element_by_xpath(\"/html/body/div[1]/div/div[1]/div[1]/div[2]/div[2]/form/div/button\")\n",
    "search_button.click()"
   ]
  },
  {
   "cell_type": "code",
   "execution_count": 941,
   "id": "88ec4a78",
   "metadata": {},
   "outputs": [],
   "source": [
    "#lets create empty list to append the datas.\n",
    "brand_names=[]\n",
    "product_description=[]\n",
    "price=[]"
   ]
  },
  {
   "cell_type": "code",
   "execution_count": 944,
   "id": "5f7b9003",
   "metadata": {},
   "outputs": [
    {
     "data": {
      "text/plain": [
       "40"
      ]
     },
     "execution_count": 944,
     "metadata": {},
     "output_type": "execute_result"
    }
   ],
   "source": [
    "#lets scrap brand_names from 1st page\n",
    "brand_tags=driver.find_elements_by_xpath(\"//div[@class='_2WkVRV']\")\n",
    "for i in brand_tags:\n",
    "    x=i.text\n",
    "    brand_names.append(x)\n",
    "len(brand_names)"
   ]
  },
  {
   "cell_type": "code",
   "execution_count": 947,
   "id": "8937d29c",
   "metadata": {},
   "outputs": [
    {
     "data": {
      "text/plain": [
       "36"
      ]
     },
     "execution_count": 947,
     "metadata": {},
     "output_type": "execute_result"
    }
   ],
   "source": [
    "#lets scrap product_description from 1st page\n",
    "description_tags=driver.find_elements_by_xpath(\"//a[@class='IRpwTa']\")\n",
    "for i in description_tags:\n",
    "    x=i.text\n",
    "    product_description.append(x)\n",
    "len(product_description)"
   ]
  },
  {
   "cell_type": "code",
   "execution_count": 948,
   "id": "3b0b7f80",
   "metadata": {},
   "outputs": [
    {
     "data": {
      "text/plain": [
       "40"
      ]
     },
     "execution_count": 948,
     "metadata": {},
     "output_type": "execute_result"
    }
   ],
   "source": [
    "#lets scrap price from 1st page\n",
    "price_tags=driver.find_elements_by_xpath(\"//div[@class='_30jeq3']\")\n",
    "for i in price_tags:\n",
    "    x=i.text\n",
    "    price.append(x)\n",
    "len(price)"
   ]
  },
  {
   "cell_type": "code",
   "execution_count": 949,
   "id": "c5ecca3b",
   "metadata": {},
   "outputs": [],
   "source": [
    "#now lets scrap data in the next page.\n",
    "#for that we shall click on the next button.\n",
    "next_page=driver.find_element_by_xpath(\"/html/body/div[1]/div/div[3]/div[1]/div[2]/div[12]/div/div/nav/a[11]\")\n",
    "next_page.click()"
   ]
  },
  {
   "cell_type": "code",
   "execution_count": 950,
   "id": "0f6fd65a",
   "metadata": {},
   "outputs": [
    {
     "data": {
      "text/plain": [
       "80"
      ]
     },
     "execution_count": 950,
     "metadata": {},
     "output_type": "execute_result"
    }
   ],
   "source": [
    "#lets scrap brand_names from 2st page\n",
    "brand_tags=driver.find_elements_by_xpath(\"//div[@class='_2WkVRV']\")\n",
    "for i in brand_tags:\n",
    "    x=i.text\n",
    "    brand_names.append(x)\n",
    "len(brand_names)"
   ]
  },
  {
   "cell_type": "code",
   "execution_count": 954,
   "id": "0eaef3d0",
   "metadata": {},
   "outputs": [
    {
     "data": {
      "text/plain": [
       "70"
      ]
     },
     "execution_count": 954,
     "metadata": {},
     "output_type": "execute_result"
    }
   ],
   "source": [
    "#lets scrap product_description from 2nd page\n",
    "description_tags=driver.find_elements_by_xpath(\"//a[@class='IRpwTa']\")\n",
    "for i in description_tags:\n",
    "    x=i.text\n",
    "    product_description.append(x)\n",
    "len(product_description)"
   ]
  },
  {
   "cell_type": "code",
   "execution_count": 955,
   "id": "10de29a9",
   "metadata": {},
   "outputs": [
    {
     "data": {
      "text/plain": [
       "80"
      ]
     },
     "execution_count": 955,
     "metadata": {},
     "output_type": "execute_result"
    }
   ],
   "source": [
    "#lets scrap price from 2nd page\n",
    "price_tags=driver.find_elements_by_xpath(\"//div[@class='_30jeq3']\")\n",
    "for i in price_tags:\n",
    "    x=i.text\n",
    "    price.append(x)\n",
    "len(price)"
   ]
  },
  {
   "cell_type": "code",
   "execution_count": 957,
   "id": "c8a0fcc3",
   "metadata": {},
   "outputs": [],
   "source": [
    "#now lets scrap data in the next page.\n",
    "#for that we shall click on the next button.\n",
    "next_page=driver.find_element_by_xpath(\"/html/body/div[1]/div/div[3]/div[1]/div[2]/div[12]/div/div/nav/a[12]/span\")\n",
    "next_page.click()"
   ]
  },
  {
   "cell_type": "code",
   "execution_count": 958,
   "id": "85732c74",
   "metadata": {},
   "outputs": [
    {
     "data": {
      "text/plain": [
       "100"
      ]
     },
     "execution_count": 958,
     "metadata": {},
     "output_type": "execute_result"
    }
   ],
   "source": [
    "#lets scrap brand_names from 3rd page\n",
    "brand_tags=driver.find_elements_by_xpath(\"//div[@class='_2WkVRV']\")\n",
    "for i in brand_tags:\n",
    "    x=i.text\n",
    "    brand_names.append(x)\n",
    "brand_names=brand_names[0:100]\n",
    "len(brand_names)"
   ]
  },
  {
   "cell_type": "code",
   "execution_count": 959,
   "id": "7add6c0e",
   "metadata": {},
   "outputs": [
    {
     "data": {
      "text/plain": [
       "100"
      ]
     },
     "execution_count": 959,
     "metadata": {},
     "output_type": "execute_result"
    }
   ],
   "source": [
    "#lets scrap product_description from 3rd page\n",
    "description_tags=driver.find_elements_by_xpath(\"//a[@class='IRpwTa']\")\n",
    "for i in description_tags:\n",
    "    x=i.text\n",
    "    product_description.append(x)\n",
    "product_description=product_description[0:100]\n",
    "len(product_description)"
   ]
  },
  {
   "cell_type": "code",
   "execution_count": 960,
   "id": "43cd4be4",
   "metadata": {},
   "outputs": [
    {
     "data": {
      "text/plain": [
       "100"
      ]
     },
     "execution_count": 960,
     "metadata": {},
     "output_type": "execute_result"
    }
   ],
   "source": [
    "#lets scrap price from 3rd page\n",
    "price_tags=driver.find_elements_by_xpath(\"//div[@class='_30jeq3']\")\n",
    "for i in price_tags:\n",
    "    x=i.text\n",
    "    price.append(x)\n",
    "price=price[0:100]\n",
    "len(price)"
   ]
  },
  {
   "cell_type": "code",
   "execution_count": 961,
   "id": "f0463797",
   "metadata": {},
   "outputs": [],
   "source": [
    "#lets create dataframe\n",
    "sneakers=pd.DataFrame({})\n",
    "sneakers['Brand']=brand_names\n",
    "sneakers['Product_Description']=product_description\n",
    "sneakers['Price']=price"
   ]
  },
  {
   "cell_type": "code",
   "execution_count": 962,
   "id": "3dafee36",
   "metadata": {},
   "outputs": [
    {
     "data": {
      "text/html": [
       "<div>\n",
       "<style scoped>\n",
       "    .dataframe tbody tr th:only-of-type {\n",
       "        vertical-align: middle;\n",
       "    }\n",
       "\n",
       "    .dataframe tbody tr th {\n",
       "        vertical-align: top;\n",
       "    }\n",
       "\n",
       "    .dataframe thead th {\n",
       "        text-align: right;\n",
       "    }\n",
       "</style>\n",
       "<table border=\"1\" class=\"dataframe\">\n",
       "  <thead>\n",
       "    <tr style=\"text-align: right;\">\n",
       "      <th></th>\n",
       "      <th>Brand</th>\n",
       "      <th>Product_Description</th>\n",
       "      <th>Price</th>\n",
       "    </tr>\n",
       "  </thead>\n",
       "  <tbody>\n",
       "    <tr>\n",
       "      <th>0</th>\n",
       "      <td>ADIDAS</td>\n",
       "      <td>Easy Vulc 2.0 Sneakers For Men</td>\n",
       "      <td>₹1,289</td>\n",
       "    </tr>\n",
       "    <tr>\n",
       "      <th>1</th>\n",
       "      <td>HIGHLANDER</td>\n",
       "      <td>Sneakers For Men</td>\n",
       "      <td>₹746</td>\n",
       "    </tr>\n",
       "    <tr>\n",
       "      <th>2</th>\n",
       "      <td>URBANBOX</td>\n",
       "      <td>Kwik FIT casual sneaker shoes and partywear sh...</td>\n",
       "      <td>₹142</td>\n",
       "    </tr>\n",
       "    <tr>\n",
       "      <th>3</th>\n",
       "      <td>KWIK FIT</td>\n",
       "      <td>STYLISH MENS BLACK SNEAKER Sneakers For Men</td>\n",
       "      <td>₹349</td>\n",
       "    </tr>\n",
       "    <tr>\n",
       "      <th>4</th>\n",
       "      <td>corsac</td>\n",
       "      <td>Canvas shoes for Men Sneakers For Men</td>\n",
       "      <td>₹449</td>\n",
       "    </tr>\n",
       "    <tr>\n",
       "      <th>...</th>\n",
       "      <td>...</td>\n",
       "      <td>...</td>\n",
       "      <td>...</td>\n",
       "    </tr>\n",
       "    <tr>\n",
       "      <th>95</th>\n",
       "      <td>WROGN</td>\n",
       "      <td>Fashion Sneakers For Men</td>\n",
       "      <td>₹550</td>\n",
       "    </tr>\n",
       "    <tr>\n",
       "      <th>96</th>\n",
       "      <td>Numenzo</td>\n",
       "      <td>Puma Smash v2 L Sneakers For Men</td>\n",
       "      <td>₹405</td>\n",
       "    </tr>\n",
       "    <tr>\n",
       "      <th>97</th>\n",
       "      <td>Bacan</td>\n",
       "      <td>Sneakers For Men</td>\n",
       "      <td>₹424</td>\n",
       "    </tr>\n",
       "    <tr>\n",
       "      <th>98</th>\n",
       "      <td>luxury fashion</td>\n",
       "      <td>Combo Pack of 2 Casual Shoes For Men Sneakers ...</td>\n",
       "      <td>₹449</td>\n",
       "    </tr>\n",
       "    <tr>\n",
       "      <th>99</th>\n",
       "      <td>ROCKFIELD</td>\n",
       "      <td>INGFRED Sneakers For Men</td>\n",
       "      <td>₹649</td>\n",
       "    </tr>\n",
       "  </tbody>\n",
       "</table>\n",
       "<p>100 rows × 3 columns</p>\n",
       "</div>"
      ],
      "text/plain": [
       "             Brand                                Product_Description   Price\n",
       "0           ADIDAS                     Easy Vulc 2.0 Sneakers For Men  ₹1,289\n",
       "1       HIGHLANDER                                   Sneakers For Men    ₹746\n",
       "2         URBANBOX  Kwik FIT casual sneaker shoes and partywear sh...    ₹142\n",
       "3         KWIK FIT        STYLISH MENS BLACK SNEAKER Sneakers For Men    ₹349\n",
       "4           corsac              Canvas shoes for Men Sneakers For Men    ₹449\n",
       "..             ...                                                ...     ...\n",
       "95           WROGN                           Fashion Sneakers For Men    ₹550\n",
       "96         Numenzo                   Puma Smash v2 L Sneakers For Men    ₹405\n",
       "97           Bacan                                   Sneakers For Men    ₹424\n",
       "98  luxury fashion  Combo Pack of 2 Casual Shoes For Men Sneakers ...    ₹449\n",
       "99       ROCKFIELD                           INGFRED Sneakers For Men    ₹649\n",
       "\n",
       "[100 rows x 3 columns]"
      ]
     },
     "execution_count": 962,
     "metadata": {},
     "output_type": "execute_result"
    }
   ],
   "source": [
    "sneakers"
   ]
  },
  {
   "cell_type": "code",
   "execution_count": null,
   "id": "7c672130",
   "metadata": {},
   "outputs": [],
   "source": []
  },
  {
   "cell_type": "code",
   "execution_count": null,
   "id": "d427433e",
   "metadata": {},
   "outputs": [],
   "source": []
  },
  {
   "cell_type": "markdown",
   "id": "d9b31e76",
   "metadata": {},
   "source": [
    "# 7"
   ]
  },
  {
   "cell_type": "markdown",
   "id": "1987b891",
   "metadata": {},
   "source": [
    "Q7: Go to the link - https://www.myntra.com/shoes\n",
    "Set Price filter to “Rs. 7149 to Rs. 14099 ” , Color filter to “Black”, as shown inthe below image.\n",
    "\n",
    "And then scrape First 100 shoes data you get. The data should include “Brand” of the shoes , Short Shoe\n",
    "description, price of the shoe as shown in the below image.\n",
    "\n",
    "Note: Applying the filter and scraping the data, everything should be done through code only and there\n",
    "should not be any manual step."
   ]
  },
  {
   "cell_type": "code",
   "execution_count": 963,
   "id": "ff0b3b71",
   "metadata": {},
   "outputs": [],
   "source": [
    "#lets now import all required libraries\n",
    "import selenium\n",
    "import pandas as pd\n",
    "from selenium import webdriver\n",
    "import warnings\n",
    "warnings.filterwarnings(\"ignore\")\n",
    "import time"
   ]
  },
  {
   "cell_type": "code",
   "execution_count": 964,
   "id": "f08038aa",
   "metadata": {},
   "outputs": [],
   "source": [
    "#lets first connect to the web driver \n",
    "driver=webdriver.Chrome(r\"C:\\Users\\USER\\Downloads\\chromedriver_win32\\chromedriver.exe\")"
   ]
  },
  {
   "cell_type": "code",
   "execution_count": 965,
   "id": "d0d82a5b",
   "metadata": {},
   "outputs": [],
   "source": [
    "driver=webdriver.Chrome(\"chromedriver.exe\")\n",
    "time.sleep(2)"
   ]
  },
  {
   "cell_type": "code",
   "execution_count": 966,
   "id": "d8711b06",
   "metadata": {},
   "outputs": [],
   "source": [
    "driver.get(\"https://www.myntra.com/shoes\")"
   ]
  },
  {
   "cell_type": "code",
   "execution_count": 967,
   "id": "f0471929",
   "metadata": {},
   "outputs": [],
   "source": [
    "#lets first set the price filter.\n",
    "price_filter=driver.find_element_by_xpath(\"/html/body/div[2]/div/div[1]/main/div[3]/div[1]/section/div/div[5]/ul/li[2]/label/div\")\n",
    "price_filter.click()"
   ]
  },
  {
   "cell_type": "code",
   "execution_count": 968,
   "id": "7197f4f0",
   "metadata": {},
   "outputs": [],
   "source": [
    "#now lets set the colour filter.\n",
    "colour_filter=driver.find_element_by_xpath(\"/html/body/div[2]/div/div[1]/main/div[3]/div[1]/section/div/div[6]/ul/li[1]/label/div\")\n",
    "colour_filter.click()"
   ]
  },
  {
   "cell_type": "code",
   "execution_count": 969,
   "id": "8ba43cfc",
   "metadata": {},
   "outputs": [],
   "source": [
    "#lets create empty list to append the datas.\n",
    "brand_names=[]\n",
    "product_description=[]\n",
    "price=[]"
   ]
  },
  {
   "cell_type": "code",
   "execution_count": 976,
   "id": "60d2d58d",
   "metadata": {},
   "outputs": [
    {
     "data": {
      "text/plain": [
       "50"
      ]
     },
     "execution_count": 976,
     "metadata": {},
     "output_type": "execute_result"
    }
   ],
   "source": [
    "#lets scrap brand_names from 1st page\n",
    "brand_tags=driver.find_elements_by_xpath(\"//h3[@class='product-brand']\")\n",
    "for i in brand_tags:\n",
    "    x=i.text\n",
    "    brand_names.append(x)\n",
    "len(brand_names)"
   ]
  },
  {
   "cell_type": "code",
   "execution_count": 978,
   "id": "aba0c686",
   "metadata": {},
   "outputs": [
    {
     "data": {
      "text/plain": [
       "50"
      ]
     },
     "execution_count": 978,
     "metadata": {},
     "output_type": "execute_result"
    }
   ],
   "source": [
    "#lets scrap product_description from 1st page\n",
    "description_tags=driver.find_elements_by_xpath(\"//h4[@class='product-product']\")\n",
    "for i in description_tags:\n",
    "    x=i.text\n",
    "    product_description.append(x)\n",
    "len(product_description)"
   ]
  },
  {
   "cell_type": "code",
   "execution_count": 979,
   "id": "2a0d8e4f",
   "metadata": {},
   "outputs": [
    {
     "data": {
      "text/plain": [
       "50"
      ]
     },
     "execution_count": 979,
     "metadata": {},
     "output_type": "execute_result"
    }
   ],
   "source": [
    "#lets scrap price from 1st page\n",
    "price_tags=driver.find_elements_by_xpath(\"//div[@class='product-price']\")\n",
    "for i in price_tags:\n",
    "    x=i.text\n",
    "    price.append(x)\n",
    "len(price)"
   ]
  },
  {
   "cell_type": "code",
   "execution_count": 980,
   "id": "fb1e5a97",
   "metadata": {},
   "outputs": [],
   "source": [
    "#lets go to the next page.\n",
    "next_page=driver.find_element_by_xpath(\"/html/body/div[2]/div/div[1]/main/div[3]/div[2]/div/div[2]/section/div[2]/ul/li[12]/a\")\n",
    "next_page.click()"
   ]
  },
  {
   "cell_type": "code",
   "execution_count": 981,
   "id": "c0fc6b8b",
   "metadata": {},
   "outputs": [
    {
     "data": {
      "text/plain": [
       "100"
      ]
     },
     "execution_count": 981,
     "metadata": {},
     "output_type": "execute_result"
    }
   ],
   "source": [
    "#lets scrap brand_names from 2nd page\n",
    "brand_tags=driver.find_elements_by_xpath(\"//h3[@class='product-brand']\")\n",
    "for i in brand_tags:\n",
    "    x=i.text\n",
    "    brand_names.append(x)\n",
    "len(brand_names)"
   ]
  },
  {
   "cell_type": "code",
   "execution_count": 982,
   "id": "2b432e9b",
   "metadata": {},
   "outputs": [
    {
     "data": {
      "text/plain": [
       "100"
      ]
     },
     "execution_count": 982,
     "metadata": {},
     "output_type": "execute_result"
    }
   ],
   "source": [
    "#lets scrap product_description from 2nd page\n",
    "description_tags=driver.find_elements_by_xpath(\"//h4[@class='product-product']\")\n",
    "for i in description_tags:\n",
    "    x=i.text\n",
    "    product_description.append(x)\n",
    "len(product_description)"
   ]
  },
  {
   "cell_type": "code",
   "execution_count": 983,
   "id": "6b5e4fd4",
   "metadata": {},
   "outputs": [
    {
     "data": {
      "text/plain": [
       "100"
      ]
     },
     "execution_count": 983,
     "metadata": {},
     "output_type": "execute_result"
    }
   ],
   "source": [
    "#lets scrap price from 1st page\n",
    "price_tags=driver.find_elements_by_xpath(\"//div[@class='product-price']\")\n",
    "for i in price_tags:\n",
    "    x=i.text\n",
    "    price.append(x)\n",
    "len(price)"
   ]
  },
  {
   "cell_type": "code",
   "execution_count": 984,
   "id": "349f9047",
   "metadata": {},
   "outputs": [],
   "source": [
    "#lets create dataframe\n",
    "sneaker=pd.DataFrame({})\n",
    "sneaker['Brand']=brand_names\n",
    "sneaker['Product_Description']=product_description\n",
    "sneaker['Price']=price"
   ]
  },
  {
   "cell_type": "code",
   "execution_count": 985,
   "id": "5e197ce1",
   "metadata": {},
   "outputs": [
    {
     "data": {
      "text/html": [
       "<div>\n",
       "<style scoped>\n",
       "    .dataframe tbody tr th:only-of-type {\n",
       "        vertical-align: middle;\n",
       "    }\n",
       "\n",
       "    .dataframe tbody tr th {\n",
       "        vertical-align: top;\n",
       "    }\n",
       "\n",
       "    .dataframe thead th {\n",
       "        text-align: right;\n",
       "    }\n",
       "</style>\n",
       "<table border=\"1\" class=\"dataframe\">\n",
       "  <thead>\n",
       "    <tr style=\"text-align: right;\">\n",
       "      <th></th>\n",
       "      <th>Brand</th>\n",
       "      <th>Product_Description</th>\n",
       "      <th>Price</th>\n",
       "    </tr>\n",
       "  </thead>\n",
       "  <tbody>\n",
       "    <tr>\n",
       "      <th>0</th>\n",
       "      <td>ALDO</td>\n",
       "      <td>Men Woven Design Sneakers</td>\n",
       "      <td>Rs. 13999</td>\n",
       "    </tr>\n",
       "    <tr>\n",
       "      <th>1</th>\n",
       "      <td>ALDO</td>\n",
       "      <td>Men Leather Driving Shoes</td>\n",
       "      <td>Rs. 12999</td>\n",
       "    </tr>\n",
       "    <tr>\n",
       "      <th>2</th>\n",
       "      <td>Skechers</td>\n",
       "      <td>Men Max Cushioning Running</td>\n",
       "      <td>Rs. 7649Rs. 8999(15% OFF)</td>\n",
       "    </tr>\n",
       "    <tr>\n",
       "      <th>3</th>\n",
       "      <td>ALDO</td>\n",
       "      <td>Men Leather Loafers</td>\n",
       "      <td>Rs. 12999</td>\n",
       "    </tr>\n",
       "    <tr>\n",
       "      <th>4</th>\n",
       "      <td>Hush Puppies</td>\n",
       "      <td>Men Solid Leather Formal Slip-Ons</td>\n",
       "      <td>Rs. 7649Rs. 8999(15% OFF)</td>\n",
       "    </tr>\n",
       "    <tr>\n",
       "      <th>...</th>\n",
       "      <td>...</td>\n",
       "      <td>...</td>\n",
       "      <td>...</td>\n",
       "    </tr>\n",
       "    <tr>\n",
       "      <th>95</th>\n",
       "      <td>J.FONTINI</td>\n",
       "      <td>Men Textured Leather Loafers</td>\n",
       "      <td>Rs. 8490</td>\n",
       "    </tr>\n",
       "    <tr>\n",
       "      <th>96</th>\n",
       "      <td>Geox</td>\n",
       "      <td>Men Formal Derbys</td>\n",
       "      <td>Rs. 8991Rs. 9990(10% OFF)</td>\n",
       "    </tr>\n",
       "    <tr>\n",
       "      <th>97</th>\n",
       "      <td>DAVINCHI</td>\n",
       "      <td>Men Textured Formal Leather Loafers</td>\n",
       "      <td>Rs. 8990</td>\n",
       "    </tr>\n",
       "    <tr>\n",
       "      <th>98</th>\n",
       "      <td>RARE RABBIT</td>\n",
       "      <td>Men Textured Leather Loafers</td>\n",
       "      <td>Rs. 7699Rs. 10999(30% OFF)</td>\n",
       "    </tr>\n",
       "    <tr>\n",
       "      <th>99</th>\n",
       "      <td>MANGO</td>\n",
       "      <td>Embellish Mid-Top Heeled Boots</td>\n",
       "      <td>Rs. 7990</td>\n",
       "    </tr>\n",
       "  </tbody>\n",
       "</table>\n",
       "<p>100 rows × 3 columns</p>\n",
       "</div>"
      ],
      "text/plain": [
       "           Brand                  Product_Description  \\\n",
       "0           ALDO            Men Woven Design Sneakers   \n",
       "1           ALDO            Men Leather Driving Shoes   \n",
       "2       Skechers           Men Max Cushioning Running   \n",
       "3           ALDO                  Men Leather Loafers   \n",
       "4   Hush Puppies    Men Solid Leather Formal Slip-Ons   \n",
       "..           ...                                  ...   \n",
       "95     J.FONTINI         Men Textured Leather Loafers   \n",
       "96          Geox                    Men Formal Derbys   \n",
       "97      DAVINCHI  Men Textured Formal Leather Loafers   \n",
       "98   RARE RABBIT         Men Textured Leather Loafers   \n",
       "99         MANGO       Embellish Mid-Top Heeled Boots   \n",
       "\n",
       "                         Price  \n",
       "0                    Rs. 13999  \n",
       "1                    Rs. 12999  \n",
       "2    Rs. 7649Rs. 8999(15% OFF)  \n",
       "3                    Rs. 12999  \n",
       "4    Rs. 7649Rs. 8999(15% OFF)  \n",
       "..                         ...  \n",
       "95                    Rs. 8490  \n",
       "96   Rs. 8991Rs. 9990(10% OFF)  \n",
       "97                    Rs. 8990  \n",
       "98  Rs. 7699Rs. 10999(30% OFF)  \n",
       "99                    Rs. 7990  \n",
       "\n",
       "[100 rows x 3 columns]"
      ]
     },
     "execution_count": 985,
     "metadata": {},
     "output_type": "execute_result"
    }
   ],
   "source": [
    "sneaker"
   ]
  },
  {
   "cell_type": "code",
   "execution_count": null,
   "id": "405fce51",
   "metadata": {},
   "outputs": [],
   "source": []
  },
  {
   "cell_type": "code",
   "execution_count": null,
   "id": "a75c0098",
   "metadata": {},
   "outputs": [],
   "source": []
  },
  {
   "cell_type": "markdown",
   "id": "39bd746c",
   "metadata": {},
   "source": [
    "# 8"
   ]
  },
  {
   "cell_type": "markdown",
   "id": "5af5233b",
   "metadata": {},
   "source": [
    "Q8: Go to webpage https://www.amazon.in/\n",
    "Enter “Laptop” in the search field and then click the search icon.\n",
    "Then set CPU Type filter to “Intel Core i7” and “Intel Core i9” as shown in the below image:\n",
    "\n",
    "After setting the filters scrape first 10 laptops data. You have to scrape 3 attributesfor each laptop:\n",
    "1. Title\n",
    "2. Ratings\n",
    "3. Price\n",
    "As shown in the below image as the tick marked attributes.\n",
    "\n",
    "Note: All the steps required during scraping should be done through code only and not manually."
   ]
  },
  {
   "cell_type": "code",
   "execution_count": 1,
   "id": "67a42e63",
   "metadata": {},
   "outputs": [],
   "source": [
    "#lets now import all required libraries\n",
    "import selenium\n",
    "import pandas as pd\n",
    "from selenium import webdriver\n",
    "import warnings\n",
    "warnings.filterwarnings(\"ignore\")\n",
    "import time"
   ]
  },
  {
   "cell_type": "code",
   "execution_count": 2,
   "id": "06319acb",
   "metadata": {},
   "outputs": [],
   "source": [
    "#lets first connect to the web driver \n",
    "driver=webdriver.Chrome(r\"C:\\Users\\USER\\Downloads\\chromedriver_win32\\chromedriver.exe\")"
   ]
  },
  {
   "cell_type": "code",
   "execution_count": 3,
   "id": "80f1cd71",
   "metadata": {},
   "outputs": [],
   "source": [
    "driver=webdriver.Chrome(\"chromedriver.exe\")\n",
    "time.sleep(2)"
   ]
  },
  {
   "cell_type": "code",
   "execution_count": 4,
   "id": "a8434abc",
   "metadata": {},
   "outputs": [],
   "source": [
    "driver.get(\"https://www.amazon.in/\")"
   ]
  },
  {
   "cell_type": "code",
   "execution_count": 5,
   "id": "086a9af6",
   "metadata": {},
   "outputs": [],
   "source": [
    "#lets enter laptop in searchbar.\n",
    "search_field_designation=driver.find_element_by_xpath(\"/html/body/div[1]/header/div/div[1]/div[2]/div/form/div[2]/div[1]/input\")\n",
    "search_field_designation.send_keys(\"Laptop\")"
   ]
  },
  {
   "cell_type": "code",
   "execution_count": 6,
   "id": "41df6bc2",
   "metadata": {},
   "outputs": [],
   "source": [
    "#lets click the search button.\n",
    "search_button=driver.find_element_by_xpath(\"/html/body/div[1]/header/div/div[1]/div[2]/div/form/div[3]/div/span/input\")\n",
    "search_button.click()"
   ]
  },
  {
   "cell_type": "code",
   "execution_count": 7,
   "id": "fcde7e76",
   "metadata": {},
   "outputs": [],
   "source": [
    "#lets set the CPU type filter.\n",
    "cpu_filter=driver.find_element_by_xpath(\"/html/body/div[1]/div[2]/div[1]/div[2]/div/div[3]/span/div[1]/div/div/div[6]/ul[4]/li[12]/span/a/div/label/i\")\n",
    "cpu_filter.click()"
   ]
  },
  {
   "cell_type": "code",
   "execution_count": 16,
   "id": "ddd42abc",
   "metadata": {},
   "outputs": [],
   "source": [
    "#lets create empty list to append the datas.\n",
    "title=[]\n",
    "rating=[]\n",
    "price=[]  "
   ]
  },
  {
   "cell_type": "code",
   "execution_count": 17,
   "id": "db35c096",
   "metadata": {},
   "outputs": [
    {
     "data": {
      "text/plain": [
       "30"
      ]
     },
     "execution_count": 17,
     "metadata": {},
     "output_type": "execute_result"
    }
   ],
   "source": [
    "#lets scrap the titles from 1st page.\n",
    "title_tags=driver.find_elements_by_xpath(\"//span[@class='a-size-medium a-color-base a-text-normal']\")\n",
    "for i in title_tags:\n",
    "    x=i.text\n",
    "    title.append(x)\n",
    "len(title)"
   ]
  },
  {
   "cell_type": "code",
   "execution_count": 18,
   "id": "9fd58d23",
   "metadata": {},
   "outputs": [
    {
     "data": {
      "text/plain": [
       "23"
      ]
     },
     "execution_count": 18,
     "metadata": {},
     "output_type": "execute_result"
    }
   ],
   "source": [
    "#lets scrap the ratings from 1st page.\n",
    "rating_tags=driver.find_elements_by_xpath(\"//span[@class='a-icon-alt']\")\n",
    "for i in rating_tags:\n",
    "    x=i.text\n",
    "    rating.append(x)\n",
    "len(rating)  "
   ]
  },
  {
   "cell_type": "code",
   "execution_count": 19,
   "id": "ee8a3db4",
   "metadata": {},
   "outputs": [
    {
     "data": {
      "text/plain": [
       "30"
      ]
     },
     "execution_count": 19,
     "metadata": {},
     "output_type": "execute_result"
    }
   ],
   "source": [
    "#lets scrap the price from 1st page.\n",
    "price_tags=driver.find_elements_by_xpath(\"//span[@class='a-price-whole']\")\n",
    "for i in price_tags:\n",
    "    x=i.text\n",
    "    price.append(x)\n",
    "len(price)"
   ]
  },
  {
   "cell_type": "code",
   "execution_count": 23,
   "id": "c2dacdb1",
   "metadata": {},
   "outputs": [],
   "source": [
    "#lets make the dataframe\n",
    "laptop=pd.DataFrame({})\n",
    "laptop['Title']=title[0:23]\n",
    "laptop['Rating']=rating[0:23]\n",
    "laptop['Price']=price[0:23]"
   ]
  },
  {
   "cell_type": "code",
   "execution_count": 24,
   "id": "7aa10693",
   "metadata": {},
   "outputs": [
    {
     "data": {
      "text/html": [
       "<div>\n",
       "<style scoped>\n",
       "    .dataframe tbody tr th:only-of-type {\n",
       "        vertical-align: middle;\n",
       "    }\n",
       "\n",
       "    .dataframe tbody tr th {\n",
       "        vertical-align: top;\n",
       "    }\n",
       "\n",
       "    .dataframe thead th {\n",
       "        text-align: right;\n",
       "    }\n",
       "</style>\n",
       "<table border=\"1\" class=\"dataframe\">\n",
       "  <thead>\n",
       "    <tr style=\"text-align: right;\">\n",
       "      <th></th>\n",
       "      <th>Title</th>\n",
       "      <th>Rating</th>\n",
       "      <th>Price</th>\n",
       "    </tr>\n",
       "  </thead>\n",
       "  <tbody>\n",
       "    <tr>\n",
       "      <th>0</th>\n",
       "      <td>MSI Modern 14, Intel i7-1195G7, 14\" FHD IPS-Le...</td>\n",
       "      <td></td>\n",
       "      <td>66,990</td>\n",
       "    </tr>\n",
       "    <tr>\n",
       "      <th>1</th>\n",
       "      <td>Mi Notebook Ultra 3.2K Resolution Display Inte...</td>\n",
       "      <td></td>\n",
       "      <td>77,990</td>\n",
       "    </tr>\n",
       "    <tr>\n",
       "      <th>2</th>\n",
       "      <td>Lenovo ThinkBook 15 Intel 11th Gen Core i7 15....</td>\n",
       "      <td></td>\n",
       "      <td>86,990</td>\n",
       "    </tr>\n",
       "    <tr>\n",
       "      <th>3</th>\n",
       "      <td>ASUS VivoBook 14 (2021), 14-inch (35.56 cms) F...</td>\n",
       "      <td></td>\n",
       "      <td>57,990</td>\n",
       "    </tr>\n",
       "    <tr>\n",
       "      <th>4</th>\n",
       "      <td>HP Pavilion 14, 11th Gen Intel Core i7-16GB RA...</td>\n",
       "      <td></td>\n",
       "      <td>86,490</td>\n",
       "    </tr>\n",
       "    <tr>\n",
       "      <th>5</th>\n",
       "      <td>Samsung Galaxy Book2 Intel 12th Gen core i7 Ev...</td>\n",
       "      <td></td>\n",
       "      <td>79,990</td>\n",
       "    </tr>\n",
       "    <tr>\n",
       "      <th>6</th>\n",
       "      <td>ASUS TUF Gaming F15 (2021), 15.6\" (39.62 cms) ...</td>\n",
       "      <td></td>\n",
       "      <td>87,990</td>\n",
       "    </tr>\n",
       "    <tr>\n",
       "      <th>7</th>\n",
       "      <td>LG Gram Intel Evo 11th Gen Core i7 17 inches U...</td>\n",
       "      <td></td>\n",
       "      <td>87,990</td>\n",
       "    </tr>\n",
       "    <tr>\n",
       "      <th>8</th>\n",
       "      <td>Fujitsu UH-X 11th Gen Intel Core i7 13.3” FHD ...</td>\n",
       "      <td></td>\n",
       "      <td>83,990</td>\n",
       "    </tr>\n",
       "    <tr>\n",
       "      <th>9</th>\n",
       "      <td>HP Envy x360 11th Gen Intel Core i7 13.3-inch(...</td>\n",
       "      <td></td>\n",
       "      <td>1,03,990</td>\n",
       "    </tr>\n",
       "    <tr>\n",
       "      <th>10</th>\n",
       "      <td>LG Gram 16 inches Intel Evo 11th Gen Core i7 U...</td>\n",
       "      <td></td>\n",
       "      <td>84,990</td>\n",
       "    </tr>\n",
       "    <tr>\n",
       "      <th>11</th>\n",
       "      <td>HP Pavilion x360 11th Gen Intel Core i7 14 inc...</td>\n",
       "      <td></td>\n",
       "      <td>85,990</td>\n",
       "    </tr>\n",
       "    <tr>\n",
       "      <th>12</th>\n",
       "      <td>Lenovo IdeaPad Gaming 3 Intel Core i7 10th Gen...</td>\n",
       "      <td></td>\n",
       "      <td>66,990</td>\n",
       "    </tr>\n",
       "    <tr>\n",
       "      <th>13</th>\n",
       "      <td>ASUS TUF Gaming F15 (2021) 15.6-inch (39.62 cm...</td>\n",
       "      <td></td>\n",
       "      <td>88,990</td>\n",
       "    </tr>\n",
       "    <tr>\n",
       "      <th>14</th>\n",
       "      <td>Samsung Galaxy Book2 Pro 360 Intel 12th Gen i7...</td>\n",
       "      <td></td>\n",
       "      <td>1,29,990</td>\n",
       "    </tr>\n",
       "    <tr>\n",
       "      <th>15</th>\n",
       "      <td>Samsung Galaxy Book2 Pro Intel 12th Gen i7 Evo...</td>\n",
       "      <td></td>\n",
       "      <td>1,14,990</td>\n",
       "    </tr>\n",
       "    <tr>\n",
       "      <th>16</th>\n",
       "      <td>HP Pavilion 11th Gen Intel Core i7 Processor 1...</td>\n",
       "      <td></td>\n",
       "      <td>87,990</td>\n",
       "    </tr>\n",
       "    <tr>\n",
       "      <th>17</th>\n",
       "      <td>(Renewed) Dell Latitude Laptop E7480 Intel Cor...</td>\n",
       "      <td></td>\n",
       "      <td>47,034</td>\n",
       "    </tr>\n",
       "    <tr>\n",
       "      <th>18</th>\n",
       "      <td>(Renewed) Dell Latitude Laptop E7480 Intel Cor...</td>\n",
       "      <td></td>\n",
       "      <td>54,990</td>\n",
       "    </tr>\n",
       "    <tr>\n",
       "      <th>19</th>\n",
       "      <td>(Renewed) Lenovo Intel 5th Gen Core i7 14 Inch...</td>\n",
       "      <td></td>\n",
       "      <td>47,799</td>\n",
       "    </tr>\n",
       "    <tr>\n",
       "      <th>20</th>\n",
       "      <td>HP Pavilion 15 12th Gen Intel Core i7 16GB SDR...</td>\n",
       "      <td></td>\n",
       "      <td>92,400</td>\n",
       "    </tr>\n",
       "    <tr>\n",
       "      <th>21</th>\n",
       "      <td>(Renewed) Dell Latitude Laptop E7480 Intel Cor...</td>\n",
       "      <td></td>\n",
       "      <td>48,014</td>\n",
       "    </tr>\n",
       "    <tr>\n",
       "      <th>22</th>\n",
       "      <td>(Renewed) Dell Latitude Laptop E7480 Intel Cor...</td>\n",
       "      <td></td>\n",
       "      <td>39,990</td>\n",
       "    </tr>\n",
       "  </tbody>\n",
       "</table>\n",
       "</div>"
      ],
      "text/plain": [
       "                                                Title Rating     Price\n",
       "0   MSI Modern 14, Intel i7-1195G7, 14\" FHD IPS-Le...           66,990\n",
       "1   Mi Notebook Ultra 3.2K Resolution Display Inte...           77,990\n",
       "2   Lenovo ThinkBook 15 Intel 11th Gen Core i7 15....           86,990\n",
       "3   ASUS VivoBook 14 (2021), 14-inch (35.56 cms) F...           57,990\n",
       "4   HP Pavilion 14, 11th Gen Intel Core i7-16GB RA...           86,490\n",
       "5   Samsung Galaxy Book2 Intel 12th Gen core i7 Ev...           79,990\n",
       "6   ASUS TUF Gaming F15 (2021), 15.6\" (39.62 cms) ...           87,990\n",
       "7   LG Gram Intel Evo 11th Gen Core i7 17 inches U...           87,990\n",
       "8   Fujitsu UH-X 11th Gen Intel Core i7 13.3” FHD ...           83,990\n",
       "9   HP Envy x360 11th Gen Intel Core i7 13.3-inch(...         1,03,990\n",
       "10  LG Gram 16 inches Intel Evo 11th Gen Core i7 U...           84,990\n",
       "11  HP Pavilion x360 11th Gen Intel Core i7 14 inc...           85,990\n",
       "12  Lenovo IdeaPad Gaming 3 Intel Core i7 10th Gen...           66,990\n",
       "13  ASUS TUF Gaming F15 (2021) 15.6-inch (39.62 cm...           88,990\n",
       "14  Samsung Galaxy Book2 Pro 360 Intel 12th Gen i7...         1,29,990\n",
       "15  Samsung Galaxy Book2 Pro Intel 12th Gen i7 Evo...         1,14,990\n",
       "16  HP Pavilion 11th Gen Intel Core i7 Processor 1...           87,990\n",
       "17  (Renewed) Dell Latitude Laptop E7480 Intel Cor...           47,034\n",
       "18  (Renewed) Dell Latitude Laptop E7480 Intel Cor...           54,990\n",
       "19  (Renewed) Lenovo Intel 5th Gen Core i7 14 Inch...           47,799\n",
       "20  HP Pavilion 15 12th Gen Intel Core i7 16GB SDR...           92,400\n",
       "21  (Renewed) Dell Latitude Laptop E7480 Intel Cor...           48,014\n",
       "22  (Renewed) Dell Latitude Laptop E7480 Intel Cor...           39,990"
      ]
     },
     "execution_count": 24,
     "metadata": {},
     "output_type": "execute_result"
    }
   ],
   "source": [
    "laptop"
   ]
  },
  {
   "cell_type": "code",
   "execution_count": null,
   "id": "48da135b",
   "metadata": {},
   "outputs": [],
   "source": []
  },
  {
   "cell_type": "code",
   "execution_count": null,
   "id": "8f2c0557",
   "metadata": {},
   "outputs": [],
   "source": []
  },
  {
   "cell_type": "markdown",
   "id": "56b1b5ce",
   "metadata": {},
   "source": [
    "# 9"
   ]
  },
  {
   "cell_type": "markdown",
   "id": "fee93709",
   "metadata": {},
   "source": [
    "Q9: Write a python program to scrape data for first 10 job results for Data Scientist Designation in Noida\n",
    "location. You have to scrape company name, No. of days ago when job was posted, Rating of the company.\n",
    "This task will be done in following steps:\n",
    "1. First get the webpage https://www.ambitionbox.com/\n",
    "2. Click on the Job option as shown in the image\n",
    "3. After reaching to the next webpage, In place of “Search by Designations, Companies, Skills” enter\n",
    "“Data Scientist” and click on search button.\n",
    "4. You will reach to the following web page click on location and in place of “Search location” enter\n",
    "“Noida” and select location “Noida”.\n",
    "5. Then scrape the data for the first 10 jobs results you get on the above shown page.\n",
    "6. Finally create a dataframe of the scraped data.\n",
    "Note: All the steps required during scraping should be done through code only and not manually.\n"
   ]
  },
  {
   "cell_type": "code",
   "execution_count": 124,
   "id": "dc5b8432",
   "metadata": {},
   "outputs": [],
   "source": [
    "#lets now import all required libraries\n",
    "import selenium\n",
    "import pandas as pd\n",
    "from selenium import webdriver\n",
    "import warnings\n",
    "warnings.filterwarnings(\"ignore\")\n",
    "import time"
   ]
  },
  {
   "cell_type": "code",
   "execution_count": 125,
   "id": "136979fc",
   "metadata": {},
   "outputs": [],
   "source": [
    "#lets first connect to the web driver \n",
    "driver=webdriver.Chrome(r\"C:\\Users\\USER\\Downloads\\chromedriver_win32\\chromedriver.exe\")"
   ]
  },
  {
   "cell_type": "code",
   "execution_count": 126,
   "id": "26091556",
   "metadata": {},
   "outputs": [],
   "source": [
    "driver=webdriver.Chrome(\"chromedriver.exe\")\n",
    "time.sleep(2)"
   ]
  },
  {
   "cell_type": "code",
   "execution_count": 127,
   "id": "1cd7ff13",
   "metadata": {},
   "outputs": [],
   "source": [
    "driver.get(\"https://www.ambitionbox.com/\")"
   ]
  },
  {
   "cell_type": "code",
   "execution_count": 128,
   "id": "e5ee1a76",
   "metadata": {},
   "outputs": [],
   "source": [
    "#lets click on job button\n",
    "job=driver.find_element_by_xpath(\"/html/body/div[1]/nav/nav/a[6]\")\n",
    "job.click()"
   ]
  },
  {
   "cell_type": "code",
   "execution_count": 129,
   "id": "6bd63b40",
   "metadata": {},
   "outputs": [],
   "source": [
    "#lets enter \"data scientist\" in search bar.\n",
    "search_=driver.find_element_by_xpath(\"/html/body/div/div/div/div[2]/div[1]/div[1]/div/div/div/div/span/input\")\n",
    "search_.send_keys(\"Data Scientist\")"
   ]
  },
  {
   "cell_type": "code",
   "execution_count": 130,
   "id": "af6b80c9",
   "metadata": {},
   "outputs": [],
   "source": [
    "#lets click on search button\n",
    "search_button=driver.find_element_by_xpath(\"/html/body/div/div/div/div[2]/div[1]/div[1]/div/div/div/button/span\")\n",
    "search_button.click()"
   ]
  },
  {
   "cell_type": "code",
   "execution_count": 131,
   "id": "8580f137",
   "metadata": {},
   "outputs": [],
   "source": [
    "#lets click on location menu.\n",
    "location_button=driver.find_element_by_xpath(\"/html/body/div/div/div/div[2]/div[1]/div[2]/div[1]/div/div/div/div[2]/div[1]/i\")\n",
    "location_button.click()"
   ]
  },
  {
   "cell_type": "code",
   "execution_count": 132,
   "id": "4fda0dcd",
   "metadata": {},
   "outputs": [],
   "source": [
    "#lets click on suggestion\n",
    "button=driver.find_element_by_xpath(\"/html/body/div/div/div/div[2]/div[1]/div[2]/div[1]/div/div/div/div[2]/div[2]/div/div[3]/div[1]/div[5]/div/label\")\n",
    "button.click()"
   ]
  },
  {
   "cell_type": "code",
   "execution_count": 133,
   "id": "0958e0e7",
   "metadata": {},
   "outputs": [],
   "source": [
    "#lets create empty list for adding data\n",
    "company_name=[]\n",
    "posted_day=[]\n",
    "rating=[]"
   ]
  },
  {
   "cell_type": "code",
   "execution_count": 134,
   "id": "2d229a09",
   "metadata": {},
   "outputs": [
    {
     "data": {
      "text/plain": [
       "10"
      ]
     },
     "execution_count": 134,
     "metadata": {},
     "output_type": "execute_result"
    }
   ],
   "source": [
    "#so lets extract all the tags having the company name\n",
    "company=driver.find_elements_by_xpath(\"//div[@class='company-info']\")\n",
    "for i in company[0:10]:\n",
    "    x=i.text\n",
    "    company_name.append(x)\n",
    "len(company_name)"
   ]
  },
  {
   "cell_type": "code",
   "execution_count": 135,
   "id": "c3542d3c",
   "metadata": {},
   "outputs": [
    {
     "data": {
      "text/plain": [
       "10"
      ]
     },
     "execution_count": 135,
     "metadata": {},
     "output_type": "execute_result"
    }
   ],
   "source": [
    "#so lets extract all the tags having the no.of days ago posted.\n",
    "days=driver.find_elements_by_xpath(\"//span[@class='body-small-l']\")\n",
    "for i in days[0::2]:\n",
    "    x=i.text\n",
    "    posted_day.append(x)\n",
    "len(posted_day)"
   ]
  },
  {
   "cell_type": "code",
   "execution_count": 136,
   "id": "0cd24360",
   "metadata": {},
   "outputs": [
    {
     "data": {
      "text/plain": [
       "10"
      ]
     },
     "execution_count": 136,
     "metadata": {},
     "output_type": "execute_result"
    }
   ],
   "source": [
    "#so lets extract all the tags having the rating.\n",
    "rate=driver.find_elements_by_xpath(\"//span[@class='body-small']\")\n",
    "for i in rate[0:10]:\n",
    "    x=i.text\n",
    "    rating.append(x)\n",
    "len(rating)"
   ]
  },
  {
   "cell_type": "code",
   "execution_count": 137,
   "id": "6de86589",
   "metadata": {},
   "outputs": [],
   "source": [
    "#lets make the data frame\n",
    "jobs=pd.DataFrame({})\n",
    "jobs[\"Company Name\"]=company_name\n",
    "jobs[\"Posted Day\"]=posted_day\n",
    "jobs[\"Rating\"]=rating"
   ]
  },
  {
   "cell_type": "code",
   "execution_count": 138,
   "id": "ef445c6d",
   "metadata": {},
   "outputs": [
    {
     "data": {
      "text/html": [
       "<div>\n",
       "<style scoped>\n",
       "    .dataframe tbody tr th:only-of-type {\n",
       "        vertical-align: middle;\n",
       "    }\n",
       "\n",
       "    .dataframe tbody tr th {\n",
       "        vertical-align: top;\n",
       "    }\n",
       "\n",
       "    .dataframe thead th {\n",
       "        text-align: right;\n",
       "    }\n",
       "</style>\n",
       "<table border=\"1\" class=\"dataframe\">\n",
       "  <thead>\n",
       "    <tr style=\"text-align: right;\">\n",
       "      <th></th>\n",
       "      <th>Company Name</th>\n",
       "      <th>Posted Day</th>\n",
       "      <th>Rating</th>\n",
       "    </tr>\n",
       "  </thead>\n",
       "  <tbody>\n",
       "    <tr>\n",
       "      <th>0</th>\n",
       "      <td>GENPACT India Private Limited\\n · \\n4.0\\nbased...</td>\n",
       "      <td>1d ago</td>\n",
       "      <td>4.0</td>\n",
       "    </tr>\n",
       "    <tr>\n",
       "      <th>1</th>\n",
       "      <td>GENPACT India Private Limited\\n4.0\\n(17.4k Rev...</td>\n",
       "      <td>2hr ago</td>\n",
       "      <td>4.4</td>\n",
       "    </tr>\n",
       "    <tr>\n",
       "      <th>2</th>\n",
       "      <td>Salesforce\\n4.4\\n(164 Reviews)</td>\n",
       "      <td>14d ago</td>\n",
       "      <td>4.4</td>\n",
       "    </tr>\n",
       "    <tr>\n",
       "      <th>3</th>\n",
       "      <td>Google India Private Limited\\n4.4\\n(410 Reviews)</td>\n",
       "      <td>1d ago</td>\n",
       "      <td>4.1</td>\n",
       "    </tr>\n",
       "    <tr>\n",
       "      <th>4</th>\n",
       "      <td>US Technology International Pvt Ltd\\n4.1\\n(2k ...</td>\n",
       "      <td>9d ago</td>\n",
       "      <td>3.9</td>\n",
       "    </tr>\n",
       "    <tr>\n",
       "      <th>5</th>\n",
       "      <td>EXL Services.com ( I ) Pvt. Ltd.\\n3.9\\n(4.4k R...</td>\n",
       "      <td>7d ago</td>\n",
       "      <td>4.2</td>\n",
       "    </tr>\n",
       "    <tr>\n",
       "      <th>6</th>\n",
       "      <td>Invesco (India) Pvt Ltd\\n4.2\\n(164 Reviews)</td>\n",
       "      <td>21d ago</td>\n",
       "      <td>4.0</td>\n",
       "    </tr>\n",
       "    <tr>\n",
       "      <th>7</th>\n",
       "      <td>GENPACT India Private Limited\\n4.0\\n(17.4k Rev...</td>\n",
       "      <td>6d ago</td>\n",
       "      <td>3.9</td>\n",
       "    </tr>\n",
       "    <tr>\n",
       "      <th>8</th>\n",
       "      <td>ValueLabs LLP\\n3.9\\n(932 Reviews)</td>\n",
       "      <td>1mon ago</td>\n",
       "      <td>3.9</td>\n",
       "    </tr>\n",
       "    <tr>\n",
       "      <th>9</th>\n",
       "      <td>Wipro Limited\\n3.9\\n(22.2k Reviews)</td>\n",
       "      <td>23d ago</td>\n",
       "      <td>4.3</td>\n",
       "    </tr>\n",
       "  </tbody>\n",
       "</table>\n",
       "</div>"
      ],
      "text/plain": [
       "                                        Company Name Posted Day Rating\n",
       "0  GENPACT India Private Limited\\n · \\n4.0\\nbased...     1d ago    4.0\n",
       "1  GENPACT India Private Limited\\n4.0\\n(17.4k Rev...    2hr ago    4.4\n",
       "2                     Salesforce\\n4.4\\n(164 Reviews)    14d ago    4.4\n",
       "3   Google India Private Limited\\n4.4\\n(410 Reviews)     1d ago    4.1\n",
       "4  US Technology International Pvt Ltd\\n4.1\\n(2k ...     9d ago    3.9\n",
       "5  EXL Services.com ( I ) Pvt. Ltd.\\n3.9\\n(4.4k R...     7d ago    4.2\n",
       "6        Invesco (India) Pvt Ltd\\n4.2\\n(164 Reviews)    21d ago    4.0\n",
       "7  GENPACT India Private Limited\\n4.0\\n(17.4k Rev...     6d ago    3.9\n",
       "8                  ValueLabs LLP\\n3.9\\n(932 Reviews)   1mon ago    3.9\n",
       "9                Wipro Limited\\n3.9\\n(22.2k Reviews)    23d ago    4.3"
      ]
     },
     "execution_count": 138,
     "metadata": {},
     "output_type": "execute_result"
    }
   ],
   "source": [
    "jobs"
   ]
  },
  {
   "cell_type": "code",
   "execution_count": null,
   "id": "96c9cfaa",
   "metadata": {},
   "outputs": [],
   "source": []
  },
  {
   "cell_type": "code",
   "execution_count": null,
   "id": "5f0fb19d",
   "metadata": {},
   "outputs": [],
   "source": []
  },
  {
   "cell_type": "code",
   "execution_count": null,
   "id": "3faad3b7",
   "metadata": {},
   "outputs": [],
   "source": []
  },
  {
   "cell_type": "markdown",
   "id": "b984d57a",
   "metadata": {},
   "source": [
    "# 10"
   ]
  },
  {
   "cell_type": "markdown",
   "id": "f162402f",
   "metadata": {},
   "source": [
    "Q10: Write a python program to scrape the salary data for Data Scientist designation.\n",
    "You have to scrape Company name, Number of salaries, Average salary, Minsalary, Max Salary.\n",
    "The above task will be, done as shown in the below steps:\n",
    "1. First get the webpage https://www.ambitionbox.com/\n",
    "2. Click on the salaries option as shown in the image.\n",
    "3. After reaching to the following webpage, In place of “Search Job Profile” enters “Data Scientist” and\n",
    "then click on “Data Scientist”.\n",
    "You have to scrape the data ticked in the above image.\n",
    "4. Scrape the data for the first 10 companies. Scrape the company name, total salary record, average\n",
    "salary, minimum salary, maximum salary, experience required.\n",
    "5. Store the data in a dataframe.\n",
    "Note: All the steps required during scraping should be done through code only and not manually."
   ]
  },
  {
   "cell_type": "code",
   "execution_count": 147,
   "id": "9971484a",
   "metadata": {},
   "outputs": [],
   "source": [
    "#lets now import all required libraries\n",
    "import selenium\n",
    "import pandas as pd\n",
    "from selenium import webdriver\n",
    "import warnings\n",
    "warnings.filterwarnings(\"ignore\")\n",
    "import time"
   ]
  },
  {
   "cell_type": "code",
   "execution_count": 148,
   "id": "2db1a278",
   "metadata": {},
   "outputs": [],
   "source": [
    "#lets first connect to the web driver \n",
    "driver=webdriver.Chrome(r\"C:\\Users\\USER\\Downloads\\chromedriver_win32\\chromedriver.exe\")"
   ]
  },
  {
   "cell_type": "code",
   "execution_count": 149,
   "id": "a3d9f4e7",
   "metadata": {},
   "outputs": [],
   "source": [
    "driver=webdriver.Chrome(\"chromedriver.exe\")\n",
    "time.sleep(2)"
   ]
  },
  {
   "cell_type": "code",
   "execution_count": 150,
   "id": "5aded119",
   "metadata": {},
   "outputs": [],
   "source": [
    "driver.get(\"https://www.ambitionbox.com/\")"
   ]
  },
  {
   "cell_type": "code",
   "execution_count": 151,
   "id": "91fd88fb",
   "metadata": {},
   "outputs": [],
   "source": [
    "#lets click on salaries\n",
    "salary=driver.find_element_by_xpath(\"/html/body/div[1]/nav/nav/a[4]\")\n",
    "salary.click()"
   ]
  },
  {
   "cell_type": "code",
   "execution_count": 152,
   "id": "6cca2ac7",
   "metadata": {},
   "outputs": [],
   "source": [
    "#lets enter \"data scientist\" in search bar.\n",
    "search_=driver.find_element_by_xpath(\"/html/body/div/div/div/main/section[1]/div[2]/div[1]/span/input\")\n",
    "search_.send_keys(\"Data Scientist\")"
   ]
  },
  {
   "cell_type": "code",
   "execution_count": 153,
   "id": "00abe17e",
   "metadata": {},
   "outputs": [],
   "source": [
    "#lets click on suggestion\n",
    "button=driver.find_element_by_xpath(\"/html/body/div/div/div/main/section[1]/div[2]/div[1]/span/div/div/div[1]/div/div/p\")\n",
    "button.click()"
   ]
  },
  {
   "cell_type": "code",
   "execution_count": 261,
   "id": "ec1cb932",
   "metadata": {},
   "outputs": [],
   "source": [
    "#lets create empty list for adding data\n",
    "company_name=[]\n",
    "salary_record=[]\n",
    "experience=[]\n",
    "average_salary=[]\n",
    "salary=[]"
   ]
  },
  {
   "cell_type": "code",
   "execution_count": 262,
   "id": "b277d2f6",
   "metadata": {},
   "outputs": [
    {
     "data": {
      "text/plain": [
       "10"
      ]
     },
     "execution_count": 262,
     "metadata": {},
     "output_type": "execute_result"
    }
   ],
   "source": [
    "#so lets extract all the tags having company_name.\n",
    "compny=driver.find_elements_by_xpath(\"//div[@class='name']\")\n",
    "for i in compny[0:10]:\n",
    "    x=i.text\n",
    "    x=x.split(\"\\n\")\n",
    "    company_name.append(x[0])\n",
    "len(company_name)"
   ]
  },
  {
   "cell_type": "code",
   "execution_count": 263,
   "id": "93a428a6",
   "metadata": {},
   "outputs": [
    {
     "data": {
      "text/plain": [
       "10"
      ]
     },
     "execution_count": 263,
     "metadata": {},
     "output_type": "execute_result"
    }
   ],
   "source": [
    "#so lets extract all the tags having salary_record.\n",
    "compny=driver.find_elements_by_xpath(\"//div[@class='name']\")\n",
    "for i in compny[0:10]:\n",
    "    x=i.text\n",
    "    x=x.split(\"\\n\")\n",
    "    salary_record.append(x[1])\n",
    "len(salary_record)"
   ]
  },
  {
   "cell_type": "code",
   "execution_count": 264,
   "id": "4b6aaa13",
   "metadata": {},
   "outputs": [
    {
     "data": {
      "text/plain": [
       "10"
      ]
     },
     "execution_count": 264,
     "metadata": {},
     "output_type": "execute_result"
    }
   ],
   "source": [
    "#so lets extract all the tags having experience_required.\n",
    "exp_req=driver.find_elements_by_xpath(\"//div[@class='salaries sbold-list-header']\")\n",
    "for i in exp_req[0:10]:\n",
    "    x=i.text.replace(\"Data Scientist\\n . \\n\", \" \")\n",
    "    experience.append(x)\n",
    "len(experience)"
   ]
  },
  {
   "cell_type": "code",
   "execution_count": 265,
   "id": "944f4be9",
   "metadata": {},
   "outputs": [
    {
     "data": {
      "text/plain": [
       "10"
      ]
     },
     "execution_count": 265,
     "metadata": {},
     "output_type": "execute_result"
    }
   ],
   "source": [
    "#so lets extract all the tags having average salary.\n",
    "avg=driver.find_elements_by_xpath(\"//p[@class='averageCtc']\")\n",
    "for i in avg[0:10]:\n",
    "    x=i.text\n",
    "    average_salary.append(x)\n",
    "len(average_salary)"
   ]
  },
  {
   "cell_type": "code",
   "execution_count": 266,
   "id": "99631142",
   "metadata": {},
   "outputs": [
    {
     "name": "stdout",
     "output_type": "stream",
     "text": [
      "10\n"
     ]
    },
    {
     "data": {
      "text/plain": [
       "10"
      ]
     },
     "execution_count": 266,
     "metadata": {},
     "output_type": "execute_result"
    }
   ],
   "source": [
    "#so lets extract all the tags having max salary.\n",
    "maxi=driver.find_elements_by_xpath(\"//div[@class='value body-medium']\")\n",
    "for i in maxi[0:20]:\n",
    "    x=i.text\n",
    "    salary.append(x)\n",
    "max_salary=salary[1::2]\n",
    "min_salary=salary[0::2]\n",
    "print(len(max_salary))\n",
    "len(min_salary)"
   ]
  },
  {
   "cell_type": "code",
   "execution_count": 269,
   "id": "7f83b0c6",
   "metadata": {},
   "outputs": [],
   "source": [
    "#lets make Dataframe.\n",
    "ds=pd.DataFrame({})\n",
    "ds[\"Company Name\"]=company_name\n",
    "ds[\"Salary_Record\"]=salary_record\n",
    "ds[\"Experience Required\"]=experience\n",
    "ds[\"Average Salary\"]=average_salary\n",
    "ds[\"Max Salary\"]=max_salary\n",
    "ds[\"Min Salary\"]=min_salary"
   ]
  },
  {
   "cell_type": "code",
   "execution_count": 270,
   "id": "2ed7e006",
   "metadata": {},
   "outputs": [
    {
     "data": {
      "text/html": [
       "<div>\n",
       "<style scoped>\n",
       "    .dataframe tbody tr th:only-of-type {\n",
       "        vertical-align: middle;\n",
       "    }\n",
       "\n",
       "    .dataframe tbody tr th {\n",
       "        vertical-align: top;\n",
       "    }\n",
       "\n",
       "    .dataframe thead th {\n",
       "        text-align: right;\n",
       "    }\n",
       "</style>\n",
       "<table border=\"1\" class=\"dataframe\">\n",
       "  <thead>\n",
       "    <tr style=\"text-align: right;\">\n",
       "      <th></th>\n",
       "      <th>Company Name</th>\n",
       "      <th>Salary_Record</th>\n",
       "      <th>Experience Required</th>\n",
       "      <th>Average Salary</th>\n",
       "      <th>Max Salary</th>\n",
       "      <th>Min Salary</th>\n",
       "    </tr>\n",
       "  </thead>\n",
       "  <tbody>\n",
       "    <tr>\n",
       "      <th>0</th>\n",
       "      <td>Walmart</td>\n",
       "      <td>based on 11 salaries</td>\n",
       "      <td>3 yrs exp</td>\n",
       "      <td>₹ 29.7L</td>\n",
       "      <td>₹ 35.0L</td>\n",
       "      <td>₹ 25.0L</td>\n",
       "    </tr>\n",
       "    <tr>\n",
       "      <th>1</th>\n",
       "      <td>Ab Inbev</td>\n",
       "      <td>based on 32 salaries</td>\n",
       "      <td>3-4 yrs exp</td>\n",
       "      <td>₹ 20.5L</td>\n",
       "      <td>₹ 25.5L</td>\n",
       "      <td>₹ 15.0L</td>\n",
       "    </tr>\n",
       "    <tr>\n",
       "      <th>2</th>\n",
       "      <td>Reliance Jio</td>\n",
       "      <td>based on 10 salaries</td>\n",
       "      <td>4 yrs exp</td>\n",
       "      <td>₹ 18.9L</td>\n",
       "      <td>₹ 26.2L</td>\n",
       "      <td>₹ 5.6L</td>\n",
       "    </tr>\n",
       "    <tr>\n",
       "      <th>3</th>\n",
       "      <td>ZS</td>\n",
       "      <td>based on 15 salaries</td>\n",
       "      <td>2 yrs exp</td>\n",
       "      <td>₹ 15.9L</td>\n",
       "      <td>₹ 20.0L</td>\n",
       "      <td>₹ 9.8L</td>\n",
       "    </tr>\n",
       "    <tr>\n",
       "      <th>4</th>\n",
       "      <td>Optum</td>\n",
       "      <td>based on 27 salaries</td>\n",
       "      <td>3-4 yrs exp</td>\n",
       "      <td>₹ 15.2L</td>\n",
       "      <td>₹ 22.0L</td>\n",
       "      <td>₹ 11.0L</td>\n",
       "    </tr>\n",
       "    <tr>\n",
       "      <th>5</th>\n",
       "      <td>Fractal Analytics</td>\n",
       "      <td>based on 81 salaries</td>\n",
       "      <td>2-4 yrs exp</td>\n",
       "      <td>₹ 15.2L</td>\n",
       "      <td>₹ 22.0L</td>\n",
       "      <td>₹ 9.5L</td>\n",
       "    </tr>\n",
       "    <tr>\n",
       "      <th>6</th>\n",
       "      <td>Tiger Analytics</td>\n",
       "      <td>based on 46 salaries</td>\n",
       "      <td>2-4 yrs exp</td>\n",
       "      <td>₹ 14.8L</td>\n",
       "      <td>₹ 20.0L</td>\n",
       "      <td>₹ 9.0L</td>\n",
       "    </tr>\n",
       "    <tr>\n",
       "      <th>7</th>\n",
       "      <td>UnitedHealth</td>\n",
       "      <td>based on 53 salaries</td>\n",
       "      <td>2-4 yrs exp</td>\n",
       "      <td>₹ 14.0L</td>\n",
       "      <td>₹ 20.5L</td>\n",
       "      <td>₹ 8.3L</td>\n",
       "    </tr>\n",
       "    <tr>\n",
       "      <th>8</th>\n",
       "      <td>Verizon</td>\n",
       "      <td>based on 14 salaries</td>\n",
       "      <td>4 yrs exp</td>\n",
       "      <td>₹ 12.7L</td>\n",
       "      <td>₹ 21.0L</td>\n",
       "      <td>₹ 10.0L</td>\n",
       "    </tr>\n",
       "    <tr>\n",
       "      <th>9</th>\n",
       "      <td>Ganit Business Solutions</td>\n",
       "      <td>based on 13 salaries</td>\n",
       "      <td>4 yrs exp</td>\n",
       "      <td>₹ 12.4L</td>\n",
       "      <td>₹ 15.0L</td>\n",
       "      <td>₹ 8.5L</td>\n",
       "    </tr>\n",
       "  </tbody>\n",
       "</table>\n",
       "</div>"
      ],
      "text/plain": [
       "               Company Name         Salary_Record Experience Required  \\\n",
       "0                   Walmart  based on 11 salaries           3 yrs exp   \n",
       "1                  Ab Inbev  based on 32 salaries         3-4 yrs exp   \n",
       "2              Reliance Jio  based on 10 salaries           4 yrs exp   \n",
       "3                        ZS  based on 15 salaries           2 yrs exp   \n",
       "4                     Optum  based on 27 salaries         3-4 yrs exp   \n",
       "5         Fractal Analytics  based on 81 salaries         2-4 yrs exp   \n",
       "6           Tiger Analytics  based on 46 salaries         2-4 yrs exp   \n",
       "7              UnitedHealth  based on 53 salaries         2-4 yrs exp   \n",
       "8                   Verizon  based on 14 salaries           4 yrs exp   \n",
       "9  Ganit Business Solutions  based on 13 salaries           4 yrs exp   \n",
       "\n",
       "  Average Salary Max Salary Min Salary  \n",
       "0        ₹ 29.7L    ₹ 35.0L    ₹ 25.0L  \n",
       "1        ₹ 20.5L    ₹ 25.5L    ₹ 15.0L  \n",
       "2        ₹ 18.9L    ₹ 26.2L     ₹ 5.6L  \n",
       "3        ₹ 15.9L    ₹ 20.0L     ₹ 9.8L  \n",
       "4        ₹ 15.2L    ₹ 22.0L    ₹ 11.0L  \n",
       "5        ₹ 15.2L    ₹ 22.0L     ₹ 9.5L  \n",
       "6        ₹ 14.8L    ₹ 20.0L     ₹ 9.0L  \n",
       "7        ₹ 14.0L    ₹ 20.5L     ₹ 8.3L  \n",
       "8        ₹ 12.7L    ₹ 21.0L    ₹ 10.0L  \n",
       "9        ₹ 12.4L    ₹ 15.0L     ₹ 8.5L  "
      ]
     },
     "execution_count": 270,
     "metadata": {},
     "output_type": "execute_result"
    }
   ],
   "source": [
    "ds"
   ]
  },
  {
   "cell_type": "code",
   "execution_count": null,
   "id": "9ca1b1df",
   "metadata": {},
   "outputs": [],
   "source": []
  }
 ],
 "metadata": {
  "kernelspec": {
   "display_name": "Python 3",
   "language": "python",
   "name": "python3"
  },
  "language_info": {
   "codemirror_mode": {
    "name": "ipython",
    "version": 3
   },
   "file_extension": ".py",
   "mimetype": "text/x-python",
   "name": "python",
   "nbconvert_exporter": "python",
   "pygments_lexer": "ipython3",
   "version": "3.8.8"
  }
 },
 "nbformat": 4,
 "nbformat_minor": 5
}
